{
 "cells": [
  {
   "cell_type": "code",
   "execution_count": 2,
   "metadata": {},
   "outputs": [],
   "source": [
    "import pandas as pd\n",
    "import numpy as np\n",
    "import seaborn as sns\n",
    "import matplotlib.pyplot as plt\n",
    "import os"
   ]
  },
  {
   "cell_type": "code",
   "execution_count": 3,
   "metadata": {},
   "outputs": [
    {
     "name": "stdout",
     "output_type": "stream",
     "text": [
      "./datasets/2024_CSIT.csv.xls\n",
      "./datasets/2025_BCA.csv.xls\n",
      "./datasets/2025_CSIT.csv.xls\n",
      "./datasets/2026_BCA.csv.xls\n",
      "./datasets/2026_CSIT.csv.xls\n",
      "./datasets/disct.csv\n",
      "./datasets/Final.csv\n",
      "./datasets/student_demography.csv\n",
      "{'2024_CSIT': './datasets/2024_CSIT.csv.xls', '2025_BCA': './datasets/2025_BCA.csv.xls', '2025_CSIT': './datasets/2025_CSIT.csv.xls', '2026_BCA': './datasets/2026_BCA.csv.xls', '2026_CSIT': './datasets/2026_CSIT.csv.xls', 'disct': './datasets/disct.csv', 'Final': './datasets/Final.csv', 'student_demography': './datasets/student_demography.csv'}\n"
     ]
    }
   ],
   "source": [
    "# Dataset import\n",
    "file_dict = {}\n",
    "for dirname, _, filenames in os.walk(\"./datasets/\"):\n",
    "    for filename in filenames:\n",
    "        print(os.path.join(dirname, filename))\n",
    "        file_dict[filename.split(\".\")[0]] = str(\n",
    "            os.path.join(dirname, filename))\n",
    "\n",
    "print(file_dict)\n"
   ]
  },
  {
   "cell_type": "code",
   "execution_count": 4,
   "metadata": {},
   "outputs": [
    {
     "data": {
      "text/html": [
       "<div>\n",
       "<style scoped>\n",
       "    .dataframe tbody tr th:only-of-type {\n",
       "        vertical-align: middle;\n",
       "    }\n",
       "\n",
       "    .dataframe tbody tr th {\n",
       "        vertical-align: top;\n",
       "    }\n",
       "\n",
       "    .dataframe thead th {\n",
       "        text-align: right;\n",
       "    }\n",
       "</style>\n",
       "<table border=\"1\" class=\"dataframe\">\n",
       "  <thead>\n",
       "    <tr style=\"text-align: right;\">\n",
       "      <th></th>\n",
       "      <th>Name</th>\n",
       "      <th>Roll</th>\n",
       "      <th>District Born</th>\n",
       "      <th>District Raised</th>\n",
       "      <th>Kathmandu Residence</th>\n",
       "      <th>Mode of Transportation</th>\n",
       "      <th>Commute Time</th>\n",
       "      <th>Family Size</th>\n",
       "      <th>Kathmandu Segment</th>\n",
       "    </tr>\n",
       "  </thead>\n",
       "  <tbody>\n",
       "    <tr>\n",
       "      <th>0</th>\n",
       "      <td>Sairaj Budhathoki</td>\n",
       "      <td>1027</td>\n",
       "      <td>Kathmandu</td>\n",
       "      <td>Bhaktapur</td>\n",
       "      <td>Lokanthali</td>\n",
       "      <td>Car</td>\n",
       "      <td>35M</td>\n",
       "      <td>3</td>\n",
       "      <td>East KTM</td>\n",
       "    </tr>\n",
       "    <tr>\n",
       "      <th>1</th>\n",
       "      <td>Prabish Dangi</td>\n",
       "      <td>1021</td>\n",
       "      <td>Morang</td>\n",
       "      <td>Morang</td>\n",
       "      <td>Sifal</td>\n",
       "      <td>Foot</td>\n",
       "      <td>2M</td>\n",
       "      <td>4</td>\n",
       "      <td>West KTM</td>\n",
       "    </tr>\n",
       "    <tr>\n",
       "      <th>2</th>\n",
       "      <td>Anish Subedi</td>\n",
       "      <td>1005</td>\n",
       "      <td>Kathmandu</td>\n",
       "      <td>Kathmandu</td>\n",
       "      <td>Jorpati</td>\n",
       "      <td>Motorbike</td>\n",
       "      <td>10M</td>\n",
       "      <td>5</td>\n",
       "      <td>North-east KTM</td>\n",
       "    </tr>\n",
       "    <tr>\n",
       "      <th>3</th>\n",
       "      <td>Rishav Aryal</td>\n",
       "      <td>1024</td>\n",
       "      <td>Kathmandu</td>\n",
       "      <td>Kathmandu</td>\n",
       "      <td>New Baneshwor</td>\n",
       "      <td>Motorbike</td>\n",
       "      <td>10M</td>\n",
       "      <td>4</td>\n",
       "      <td>East KTM</td>\n",
       "    </tr>\n",
       "    <tr>\n",
       "      <th>4</th>\n",
       "      <td>Saurav Dhakal</td>\n",
       "      <td>1034</td>\n",
       "      <td>Kathamndu</td>\n",
       "      <td>Kathmandu</td>\n",
       "      <td>Boudhha</td>\n",
       "      <td>Foot</td>\n",
       "      <td>25M</td>\n",
       "      <td>4</td>\n",
       "      <td>North-east KTM</td>\n",
       "    </tr>\n",
       "  </tbody>\n",
       "</table>\n",
       "</div>"
      ],
      "text/plain": [
       "                Name  Roll District Born District Raised Kathmandu Residence  \\\n",
       "0  Sairaj Budhathoki  1027     Kathmandu       Bhaktapur          Lokanthali   \n",
       "1      Prabish Dangi  1021        Morang          Morang               Sifal   \n",
       "2       Anish Subedi  1005     Kathmandu       Kathmandu             Jorpati   \n",
       "3       Rishav Aryal  1024     Kathmandu       Kathmandu       New Baneshwor   \n",
       "4      Saurav Dhakal  1034     Kathamndu       Kathmandu             Boudhha   \n",
       "\n",
       "  Mode of Transportation Commute Time  Family Size Kathmandu Segment  \n",
       "0                    Car          35M            3          East KTM  \n",
       "1                   Foot           2M            4          West KTM  \n",
       "2              Motorbike          10M            5    North-east KTM  \n",
       "3              Motorbike          10M            4          East KTM  \n",
       "4                   Foot          25M            4    North-east KTM  "
      ]
     },
     "execution_count": 4,
     "metadata": {},
     "output_type": "execute_result"
    }
   ],
   "source": [
    "df_24C = pd.read_csv(file_dict[\"2024_CSIT\"])\n",
    "df_24C.head()\n"
   ]
  },
  {
   "cell_type": "code",
   "execution_count": 5,
   "metadata": {},
   "outputs": [],
   "source": [
    "cols_to_rename = {\n",
    "    \"Roll\": \"Id\",\n",
    "    \"District Born\": \"Born\",\n",
    "    \"District Raised\": \"Raised\",\n",
    "    \"Kathmandu Residence\": \"Residence\",\n",
    "    \"Mode of Transportation\": \"Transportation\",\n",
    "    \"Commute Time\": \"Commute\",\n",
    "    \"Family Size\": \"Family\",\n",
    "    \"Kathmandu Segment\": \"Area\",\n",
    "}\n",
    "df_24C.rename(\n",
    "    columns=cols_to_rename,\n",
    "    inplace=True,\n",
    ")"
   ]
  },
  {
   "cell_type": "code",
   "execution_count": 6,
   "metadata": {},
   "outputs": [
    {
     "data": {
      "text/html": [
       "<div>\n",
       "<style scoped>\n",
       "    .dataframe tbody tr th:only-of-type {\n",
       "        vertical-align: middle;\n",
       "    }\n",
       "\n",
       "    .dataframe tbody tr th {\n",
       "        vertical-align: top;\n",
       "    }\n",
       "\n",
       "    .dataframe thead th {\n",
       "        text-align: right;\n",
       "    }\n",
       "</style>\n",
       "<table border=\"1\" class=\"dataframe\">\n",
       "  <thead>\n",
       "    <tr style=\"text-align: right;\">\n",
       "      <th></th>\n",
       "      <th>Name</th>\n",
       "      <th>Id</th>\n",
       "      <th>Born</th>\n",
       "      <th>Raised</th>\n",
       "      <th>Residence</th>\n",
       "      <th>Transportation</th>\n",
       "      <th>Commute</th>\n",
       "      <th>Family</th>\n",
       "      <th>Area</th>\n",
       "    </tr>\n",
       "  </thead>\n",
       "  <tbody>\n",
       "    <tr>\n",
       "      <th>0</th>\n",
       "      <td>Sairaj Budhathoki</td>\n",
       "      <td>1027</td>\n",
       "      <td>Kathmandu</td>\n",
       "      <td>Bhaktapur</td>\n",
       "      <td>Lokanthali</td>\n",
       "      <td>Car</td>\n",
       "      <td>35M</td>\n",
       "      <td>3</td>\n",
       "      <td>East KTM</td>\n",
       "    </tr>\n",
       "    <tr>\n",
       "      <th>1</th>\n",
       "      <td>Prabish Dangi</td>\n",
       "      <td>1021</td>\n",
       "      <td>Morang</td>\n",
       "      <td>Morang</td>\n",
       "      <td>Sifal</td>\n",
       "      <td>Foot</td>\n",
       "      <td>2M</td>\n",
       "      <td>4</td>\n",
       "      <td>West KTM</td>\n",
       "    </tr>\n",
       "    <tr>\n",
       "      <th>2</th>\n",
       "      <td>Anish Subedi</td>\n",
       "      <td>1005</td>\n",
       "      <td>Kathmandu</td>\n",
       "      <td>Kathmandu</td>\n",
       "      <td>Jorpati</td>\n",
       "      <td>Motorbike</td>\n",
       "      <td>10M</td>\n",
       "      <td>5</td>\n",
       "      <td>North-east KTM</td>\n",
       "    </tr>\n",
       "    <tr>\n",
       "      <th>3</th>\n",
       "      <td>Rishav Aryal</td>\n",
       "      <td>1024</td>\n",
       "      <td>Kathmandu</td>\n",
       "      <td>Kathmandu</td>\n",
       "      <td>New Baneshwor</td>\n",
       "      <td>Motorbike</td>\n",
       "      <td>10M</td>\n",
       "      <td>4</td>\n",
       "      <td>East KTM</td>\n",
       "    </tr>\n",
       "    <tr>\n",
       "      <th>4</th>\n",
       "      <td>Saurav Dhakal</td>\n",
       "      <td>1034</td>\n",
       "      <td>Kathamndu</td>\n",
       "      <td>Kathmandu</td>\n",
       "      <td>Boudhha</td>\n",
       "      <td>Foot</td>\n",
       "      <td>25M</td>\n",
       "      <td>4</td>\n",
       "      <td>North-east KTM</td>\n",
       "    </tr>\n",
       "  </tbody>\n",
       "</table>\n",
       "</div>"
      ],
      "text/plain": [
       "                Name    Id       Born     Raised      Residence  \\\n",
       "0  Sairaj Budhathoki  1027  Kathmandu  Bhaktapur     Lokanthali   \n",
       "1      Prabish Dangi  1021     Morang     Morang          Sifal   \n",
       "2       Anish Subedi  1005  Kathmandu  Kathmandu        Jorpati   \n",
       "3       Rishav Aryal  1024  Kathmandu  Kathmandu  New Baneshwor   \n",
       "4      Saurav Dhakal  1034  Kathamndu  Kathmandu        Boudhha   \n",
       "\n",
       "  Transportation Commute  Family            Area  \n",
       "0            Car     35M       3        East KTM  \n",
       "1           Foot      2M       4        West KTM  \n",
       "2      Motorbike     10M       5  North-east KTM  \n",
       "3      Motorbike     10M       4        East KTM  \n",
       "4           Foot     25M       4  North-east KTM  "
      ]
     },
     "execution_count": 6,
     "metadata": {},
     "output_type": "execute_result"
    }
   ],
   "source": [
    "df_24C.head()\n"
   ]
  },
  {
   "cell_type": "code",
   "execution_count": 7,
   "metadata": {},
   "outputs": [],
   "source": [
    "# Importing other datasets\n",
    "df_25C = pd.read_csv(file_dict[\"2025_CSIT\"])\n",
    "df_25B = pd.read_csv(file_dict[\"2025_BCA\"])\n",
    "df_26C = pd.read_csv(file_dict[\"2026_CSIT\"])\n",
    "df_26B = pd.read_csv(file_dict[\"2026_BCA\"])\n",
    "df_25C.rename(columns=cols_to_rename, inplace=True)\n",
    "df_25B.rename(columns=cols_to_rename, inplace=True)\n",
    "df_26B.rename(columns=cols_to_rename, inplace=True)\n",
    "df_26C.rename(columns=cols_to_rename, inplace=True)\n"
   ]
  },
  {
   "cell_type": "code",
   "execution_count": 8,
   "metadata": {},
   "outputs": [
    {
     "data": {
      "text/html": [
       "<div>\n",
       "<style scoped>\n",
       "    .dataframe tbody tr th:only-of-type {\n",
       "        vertical-align: middle;\n",
       "    }\n",
       "\n",
       "    .dataframe tbody tr th {\n",
       "        vertical-align: top;\n",
       "    }\n",
       "\n",
       "    .dataframe thead th {\n",
       "        text-align: right;\n",
       "    }\n",
       "</style>\n",
       "<table border=\"1\" class=\"dataframe\">\n",
       "  <thead>\n",
       "    <tr style=\"text-align: right;\">\n",
       "      <th></th>\n",
       "      <th>Name</th>\n",
       "      <th>Id</th>\n",
       "      <th>Born</th>\n",
       "      <th>Raised</th>\n",
       "      <th>Residence</th>\n",
       "      <th>Transportation</th>\n",
       "      <th>Commute</th>\n",
       "      <th>Family</th>\n",
       "      <th>Area</th>\n",
       "    </tr>\n",
       "  </thead>\n",
       "  <tbody>\n",
       "    <tr>\n",
       "      <th>0</th>\n",
       "      <td>Sairaj Budhathoki</td>\n",
       "      <td>1027</td>\n",
       "      <td>Kathmandu</td>\n",
       "      <td>Bhaktapur</td>\n",
       "      <td>Lokanthali</td>\n",
       "      <td>Car</td>\n",
       "      <td>35</td>\n",
       "      <td>3</td>\n",
       "      <td>East KTM</td>\n",
       "    </tr>\n",
       "    <tr>\n",
       "      <th>1</th>\n",
       "      <td>Prabish Dangi</td>\n",
       "      <td>1021</td>\n",
       "      <td>Morang</td>\n",
       "      <td>Morang</td>\n",
       "      <td>Sifal</td>\n",
       "      <td>Foot</td>\n",
       "      <td>2</td>\n",
       "      <td>4</td>\n",
       "      <td>West KTM</td>\n",
       "    </tr>\n",
       "    <tr>\n",
       "      <th>2</th>\n",
       "      <td>Anish Subedi</td>\n",
       "      <td>1005</td>\n",
       "      <td>Kathmandu</td>\n",
       "      <td>Kathmandu</td>\n",
       "      <td>Jorpati</td>\n",
       "      <td>Motorbike</td>\n",
       "      <td>10</td>\n",
       "      <td>5</td>\n",
       "      <td>North-east KTM</td>\n",
       "    </tr>\n",
       "    <tr>\n",
       "      <th>3</th>\n",
       "      <td>Rishav Aryal</td>\n",
       "      <td>1024</td>\n",
       "      <td>Kathmandu</td>\n",
       "      <td>Kathmandu</td>\n",
       "      <td>New Baneshwor</td>\n",
       "      <td>Motorbike</td>\n",
       "      <td>10</td>\n",
       "      <td>4</td>\n",
       "      <td>East KTM</td>\n",
       "    </tr>\n",
       "    <tr>\n",
       "      <th>4</th>\n",
       "      <td>Saurav Dhakal</td>\n",
       "      <td>1034</td>\n",
       "      <td>Kathamndu</td>\n",
       "      <td>Kathmandu</td>\n",
       "      <td>Boudhha</td>\n",
       "      <td>Foot</td>\n",
       "      <td>25</td>\n",
       "      <td>4</td>\n",
       "      <td>North-east KTM</td>\n",
       "    </tr>\n",
       "  </tbody>\n",
       "</table>\n",
       "</div>"
      ],
      "text/plain": [
       "                Name    Id       Born     Raised      Residence  \\\n",
       "0  Sairaj Budhathoki  1027  Kathmandu  Bhaktapur     Lokanthali   \n",
       "1      Prabish Dangi  1021     Morang     Morang          Sifal   \n",
       "2       Anish Subedi  1005  Kathmandu  Kathmandu        Jorpati   \n",
       "3       Rishav Aryal  1024  Kathmandu  Kathmandu  New Baneshwor   \n",
       "4      Saurav Dhakal  1034  Kathamndu  Kathmandu        Boudhha   \n",
       "\n",
       "  Transportation  Commute  Family            Area  \n",
       "0            Car       35       3        East KTM  \n",
       "1           Foot        2       4        West KTM  \n",
       "2      Motorbike       10       5  North-east KTM  \n",
       "3      Motorbike       10       4        East KTM  \n",
       "4           Foot       25       4  North-east KTM  "
      ]
     },
     "execution_count": 8,
     "metadata": {},
     "output_type": "execute_result"
    }
   ],
   "source": [
    "# 35M -> 35\n",
    "def clean_commute(x):\n",
    "    return int(x.split(\"M\")[0])\n",
    "\n",
    "\n",
    "df_24C[\"Commute\"] = df_24C[\"Commute\"].apply(lambda x: int(x.split(\"M\")[0]))\n",
    "df_24C.head()\n"
   ]
  },
  {
   "cell_type": "code",
   "execution_count": 9,
   "metadata": {},
   "outputs": [
    {
     "data": {
      "text/plain": [
       "North-east KTM    11\n",
       "South KTM          8\n",
       "West KTM           7\n",
       "East KTM           5\n",
       "North-west KTM     5\n",
       "North KTM          5\n",
       "East from KTM      1\n",
       "Name: Area, dtype: int64"
      ]
     },
     "execution_count": 9,
     "metadata": {},
     "output_type": "execute_result"
    }
   ],
   "source": [
    "# Cleaning Area Column\n",
    "df_24C.Area.value_counts()\n"
   ]
  },
  {
   "cell_type": "code",
   "execution_count": 10,
   "metadata": {},
   "outputs": [],
   "source": [
    "df_24C.loc[df_24C[\"Area\"] == \"East from KTM\", \"Area\"] = \"East KTM\""
   ]
  },
  {
   "cell_type": "code",
   "execution_count": 11,
   "metadata": {},
   "outputs": [
    {
     "data": {
      "text/plain": [
       "North-east KTM    11\n",
       "South KTM          8\n",
       "West KTM           7\n",
       "East KTM           6\n",
       "North-west KTM     5\n",
       "North KTM          5\n",
       "Name: Area, dtype: int64"
      ]
     },
     "execution_count": 11,
     "metadata": {},
     "output_type": "execute_result"
    }
   ],
   "source": [
    "df_24C.Area.value_counts()\n"
   ]
  },
  {
   "cell_type": "code",
   "execution_count": 12,
   "metadata": {},
   "outputs": [
    {
     "data": {
      "text/html": [
       "<div>\n",
       "<style scoped>\n",
       "    .dataframe tbody tr th:only-of-type {\n",
       "        vertical-align: middle;\n",
       "    }\n",
       "\n",
       "    .dataframe tbody tr th {\n",
       "        vertical-align: top;\n",
       "    }\n",
       "\n",
       "    .dataframe thead th {\n",
       "        text-align: right;\n",
       "    }\n",
       "</style>\n",
       "<table border=\"1\" class=\"dataframe\">\n",
       "  <thead>\n",
       "    <tr style=\"text-align: right;\">\n",
       "      <th></th>\n",
       "      <th>Name</th>\n",
       "      <th>Id</th>\n",
       "      <th>Born</th>\n",
       "      <th>Raised</th>\n",
       "      <th>Residence</th>\n",
       "      <th>Transportation</th>\n",
       "      <th>Commute</th>\n",
       "      <th>Family</th>\n",
       "      <th>Area</th>\n",
       "    </tr>\n",
       "  </thead>\n",
       "  <tbody>\n",
       "    <tr>\n",
       "      <th>0</th>\n",
       "      <td>Sairaj Budhathoki</td>\n",
       "      <td>1027</td>\n",
       "      <td>Kathmandu</td>\n",
       "      <td>Bhaktapur</td>\n",
       "      <td>Lokanthali</td>\n",
       "      <td>Car</td>\n",
       "      <td>35</td>\n",
       "      <td>3</td>\n",
       "      <td>East</td>\n",
       "    </tr>\n",
       "    <tr>\n",
       "      <th>1</th>\n",
       "      <td>Prabish Dangi</td>\n",
       "      <td>1021</td>\n",
       "      <td>Morang</td>\n",
       "      <td>Morang</td>\n",
       "      <td>Sifal</td>\n",
       "      <td>Foot</td>\n",
       "      <td>2</td>\n",
       "      <td>4</td>\n",
       "      <td>West</td>\n",
       "    </tr>\n",
       "    <tr>\n",
       "      <th>2</th>\n",
       "      <td>Anish Subedi</td>\n",
       "      <td>1005</td>\n",
       "      <td>Kathmandu</td>\n",
       "      <td>Kathmandu</td>\n",
       "      <td>Jorpati</td>\n",
       "      <td>Motorbike</td>\n",
       "      <td>10</td>\n",
       "      <td>5</td>\n",
       "      <td>North-east</td>\n",
       "    </tr>\n",
       "    <tr>\n",
       "      <th>3</th>\n",
       "      <td>Rishav Aryal</td>\n",
       "      <td>1024</td>\n",
       "      <td>Kathmandu</td>\n",
       "      <td>Kathmandu</td>\n",
       "      <td>New Baneshwor</td>\n",
       "      <td>Motorbike</td>\n",
       "      <td>10</td>\n",
       "      <td>4</td>\n",
       "      <td>East</td>\n",
       "    </tr>\n",
       "    <tr>\n",
       "      <th>4</th>\n",
       "      <td>Saurav Dhakal</td>\n",
       "      <td>1034</td>\n",
       "      <td>Kathamndu</td>\n",
       "      <td>Kathmandu</td>\n",
       "      <td>Boudhha</td>\n",
       "      <td>Foot</td>\n",
       "      <td>25</td>\n",
       "      <td>4</td>\n",
       "      <td>North-east</td>\n",
       "    </tr>\n",
       "  </tbody>\n",
       "</table>\n",
       "</div>"
      ],
      "text/plain": [
       "                Name    Id       Born     Raised      Residence  \\\n",
       "0  Sairaj Budhathoki  1027  Kathmandu  Bhaktapur     Lokanthali   \n",
       "1      Prabish Dangi  1021     Morang     Morang          Sifal   \n",
       "2       Anish Subedi  1005  Kathmandu  Kathmandu        Jorpati   \n",
       "3       Rishav Aryal  1024  Kathmandu  Kathmandu  New Baneshwor   \n",
       "4      Saurav Dhakal  1034  Kathamndu  Kathmandu        Boudhha   \n",
       "\n",
       "  Transportation  Commute  Family        Area  \n",
       "0            Car       35       3        East  \n",
       "1           Foot        2       4        West  \n",
       "2      Motorbike       10       5  North-east  \n",
       "3      Motorbike       10       4        East  \n",
       "4           Foot       25       4  North-east  "
      ]
     },
     "execution_count": 12,
     "metadata": {},
     "output_type": "execute_result"
    }
   ],
   "source": [
    "def clean_area(x):\n",
    "    return x.split(\" \")[0]\n",
    "\n",
    "\n",
    "df_24C[\"Area\"] = df_24C[\"Area\"].apply(clean_area)\n",
    "df_24C.head()"
   ]
  },
  {
   "cell_type": "code",
   "execution_count": 13,
   "metadata": {},
   "outputs": [
    {
     "data": {
      "text/plain": [
       "Scooter            12\n",
       "Foot               11\n",
       "Motorbike           6\n",
       "Public Bus          5\n",
       "Car                 2\n",
       "Bike                2\n",
       "Pathao              1\n",
       "Bus                 1\n",
       "Cycle               1\n",
       "Foot/Public Bus     1\n",
       "Name: Transportation, dtype: int64"
      ]
     },
     "execution_count": 13,
     "metadata": {},
     "output_type": "execute_result"
    }
   ],
   "source": [
    "# Cleaning transportation column\n",
    "df_24C.Transportation.value_counts()\n"
   ]
  },
  {
   "cell_type": "code",
   "execution_count": 14,
   "metadata": {},
   "outputs": [],
   "source": [
    "df_24C.loc[df_24C[\"Transportation\"] == \"Public Bus\", \"Transportation\"] = \"Public\"\n",
    "df_24C.loc[df_24C[\"Transportation\"] == \"Pathao\", \"Transportation\"] = \"Public\"\n",
    "df_24C.loc[df_24C[\"Transportation\"] == \"Bike\", \"Transportation\"] = \"Motorbike\"\n",
    "df_24C.loc[df_24C[\"Transportation\"] == \"Foot/Public Bus\", \"Transportation\"] = \"Foot\"\n",
    "df_24C.loc[df_24C[\"Transportation\"] == \"Bus\", \"Transportation\"] = \"Public\""
   ]
  },
  {
   "cell_type": "code",
   "execution_count": 15,
   "metadata": {},
   "outputs": [
    {
     "data": {
      "text/plain": [
       "Foot         12\n",
       "Scooter      12\n",
       "Motorbike     8\n",
       "Public        7\n",
       "Car           2\n",
       "Cycle         1\n",
       "Name: Transportation, dtype: int64"
      ]
     },
     "execution_count": 15,
     "metadata": {},
     "output_type": "execute_result"
    }
   ],
   "source": [
    "df_24C.Transportation.value_counts()\n"
   ]
  },
  {
   "cell_type": "code",
   "execution_count": 16,
   "metadata": {},
   "outputs": [
    {
     "data": {
      "text/html": [
       "<div>\n",
       "<style scoped>\n",
       "    .dataframe tbody tr th:only-of-type {\n",
       "        vertical-align: middle;\n",
       "    }\n",
       "\n",
       "    .dataframe tbody tr th {\n",
       "        vertical-align: top;\n",
       "    }\n",
       "\n",
       "    .dataframe thead th {\n",
       "        text-align: right;\n",
       "    }\n",
       "</style>\n",
       "<table border=\"1\" class=\"dataframe\">\n",
       "  <thead>\n",
       "    <tr style=\"text-align: right;\">\n",
       "      <th></th>\n",
       "      <th>Name</th>\n",
       "      <th>Id</th>\n",
       "      <th>Born</th>\n",
       "      <th>Raised</th>\n",
       "      <th>Residence</th>\n",
       "      <th>Transportation</th>\n",
       "      <th>Commute</th>\n",
       "      <th>Family</th>\n",
       "      <th>Area</th>\n",
       "    </tr>\n",
       "  </thead>\n",
       "  <tbody>\n",
       "    <tr>\n",
       "      <th>40</th>\n",
       "      <td>Aayush Badu</td>\n",
       "      <td>1001</td>\n",
       "      <td>Lalitpur</td>\n",
       "      <td>Kathmandu</td>\n",
       "      <td>Bafal</td>\n",
       "      <td>Motorbike</td>\n",
       "      <td>38</td>\n",
       "      <td>5</td>\n",
       "      <td>West</td>\n",
       "    </tr>\n",
       "    <tr>\n",
       "      <th>41</th>\n",
       "      <td>Ananta kandel</td>\n",
       "      <td>1003</td>\n",
       "      <td>Chitwan</td>\n",
       "      <td>Chitwan</td>\n",
       "      <td>Swyambhu</td>\n",
       "      <td>Scooter</td>\n",
       "      <td>20</td>\n",
       "      <td>5</td>\n",
       "      <td>West</td>\n",
       "    </tr>\n",
       "    <tr>\n",
       "      <th>21</th>\n",
       "      <td>Anish Regmi</td>\n",
       "      <td>1004</td>\n",
       "      <td>Kathmandu</td>\n",
       "      <td>Kathmandu</td>\n",
       "      <td>Naya Bazaar</td>\n",
       "      <td>Cycle</td>\n",
       "      <td>13</td>\n",
       "      <td>5</td>\n",
       "      <td>North</td>\n",
       "    </tr>\n",
       "    <tr>\n",
       "      <th>2</th>\n",
       "      <td>Anish Subedi</td>\n",
       "      <td>1005</td>\n",
       "      <td>Kathmandu</td>\n",
       "      <td>Kathmandu</td>\n",
       "      <td>Jorpati</td>\n",
       "      <td>Motorbike</td>\n",
       "      <td>10</td>\n",
       "      <td>5</td>\n",
       "      <td>North-east</td>\n",
       "    </tr>\n",
       "    <tr>\n",
       "      <th>33</th>\n",
       "      <td>Archita Kandel</td>\n",
       "      <td>1007</td>\n",
       "      <td>Rupandehi</td>\n",
       "      <td>Rupandehi</td>\n",
       "      <td>Shankhamul</td>\n",
       "      <td>Public</td>\n",
       "      <td>20</td>\n",
       "      <td>5</td>\n",
       "      <td>South</td>\n",
       "    </tr>\n",
       "  </tbody>\n",
       "</table>\n",
       "</div>"
      ],
      "text/plain": [
       "              Name    Id       Born     Raised    Residence Transportation  \\\n",
       "40     Aayush Badu  1001   Lalitpur  Kathmandu        Bafal      Motorbike   \n",
       "41   Ananta kandel  1003   Chitwan     Chitwan    Swyambhu         Scooter   \n",
       "21     Anish Regmi  1004  Kathmandu  Kathmandu  Naya Bazaar          Cycle   \n",
       "2     Anish Subedi  1005  Kathmandu  Kathmandu      Jorpati      Motorbike   \n",
       "33  Archita Kandel  1007  Rupandehi  Rupandehi   Shankhamul         Public   \n",
       "\n",
       "    Commute  Family        Area  \n",
       "40       38       5        West  \n",
       "41       20       5        West  \n",
       "21       13       5       North  \n",
       "2        10       5  North-east  \n",
       "33       20       5       South  "
      ]
     },
     "execution_count": 16,
     "metadata": {},
     "output_type": "execute_result"
    }
   ],
   "source": [
    "df_24C.sort_values(by=[\"Id\"], inplace=True)\n",
    "df_24C.head()"
   ]
  },
  {
   "cell_type": "code",
   "execution_count": 17,
   "metadata": {},
   "outputs": [
    {
     "data": {
      "text/plain": [
       "Born      \n",
       "Kathmandu     22\n",
       "Lalitpur       8\n",
       "Morang         3\n",
       "Jhapa          2\n",
       "Chitwan        1\n",
       "Chitwan        1\n",
       "Kanchanpur     1\n",
       "Kathamndu      1\n",
       "LAlitpur       1\n",
       "Pokhara        1\n",
       "Rupandehi      1\n",
       "dtype: int64"
      ]
     },
     "execution_count": 17,
     "metadata": {},
     "output_type": "execute_result"
    }
   ],
   "source": [
    "df_24C[[\"Born\"]].value_counts()"
   ]
  },
  {
   "cell_type": "code",
   "execution_count": 18,
   "metadata": {},
   "outputs": [],
   "source": [
    "df_24C.loc[df_24C[\"Born\"] == \"LAlitpur\", \"Born\"] = \"Lalitpur\""
   ]
  },
  {
   "cell_type": "code",
   "execution_count": 19,
   "metadata": {},
   "outputs": [
    {
     "data": {
      "text/plain": [
       "Kathmandu     22\n",
       "Lalitpur       9\n",
       "Morang         3\n",
       "Jhapa          2\n",
       "Chitwan        1\n",
       "Rupandehi      1\n",
       "Pokhara        1\n",
       "Kanchanpur     1\n",
       "Kathamndu      1\n",
       "Chitwan        1\n",
       "Name: Born, dtype: int64"
      ]
     },
     "execution_count": 19,
     "metadata": {},
     "output_type": "execute_result"
    }
   ],
   "source": [
    "df_24C.Born.value_counts()\n"
   ]
  },
  {
   "cell_type": "code",
   "execution_count": 20,
   "metadata": {},
   "outputs": [
    {
     "data": {
      "text/html": [
       "<div>\n",
       "<style scoped>\n",
       "    .dataframe tbody tr th:only-of-type {\n",
       "        vertical-align: middle;\n",
       "    }\n",
       "\n",
       "    .dataframe tbody tr th {\n",
       "        vertical-align: top;\n",
       "    }\n",
       "\n",
       "    .dataframe thead th {\n",
       "        text-align: right;\n",
       "    }\n",
       "</style>\n",
       "<table border=\"1\" class=\"dataframe\">\n",
       "  <thead>\n",
       "    <tr style=\"text-align: right;\">\n",
       "      <th></th>\n",
       "      <th>Name</th>\n",
       "      <th>Id</th>\n",
       "      <th>Born</th>\n",
       "      <th>Raised</th>\n",
       "      <th>Residence</th>\n",
       "      <th>Transportation</th>\n",
       "      <th>Commute</th>\n",
       "      <th>Family</th>\n",
       "      <th>Area</th>\n",
       "    </tr>\n",
       "  </thead>\n",
       "  <tbody>\n",
       "    <tr>\n",
       "      <th>12</th>\n",
       "      <td>Sneha Poudel</td>\n",
       "      <td>1042</td>\n",
       "      <td>Chitwan</td>\n",
       "      <td>Kathmandu</td>\n",
       "      <td>Kapan</td>\n",
       "      <td>Public</td>\n",
       "      <td>20</td>\n",
       "      <td>5</td>\n",
       "      <td>North-east</td>\n",
       "    </tr>\n",
       "  </tbody>\n",
       "</table>\n",
       "</div>"
      ],
      "text/plain": [
       "            Name    Id     Born     Raised Residence Transportation  Commute  \\\n",
       "12  Sneha Poudel  1042  Chitwan  Kathmandu     Kapan         Public       20   \n",
       "\n",
       "    Family        Area  \n",
       "12       5  North-east  "
      ]
     },
     "metadata": {},
     "output_type": "display_data"
    },
    {
     "data": {
      "text/html": [
       "<div>\n",
       "<style scoped>\n",
       "    .dataframe tbody tr th:only-of-type {\n",
       "        vertical-align: middle;\n",
       "    }\n",
       "\n",
       "    .dataframe tbody tr th {\n",
       "        vertical-align: top;\n",
       "    }\n",
       "\n",
       "    .dataframe thead th {\n",
       "        text-align: right;\n",
       "    }\n",
       "</style>\n",
       "<table border=\"1\" class=\"dataframe\">\n",
       "  <thead>\n",
       "    <tr style=\"text-align: right;\">\n",
       "      <th></th>\n",
       "      <th>Name</th>\n",
       "      <th>Id</th>\n",
       "      <th>Born</th>\n",
       "      <th>Raised</th>\n",
       "      <th>Residence</th>\n",
       "      <th>Transportation</th>\n",
       "      <th>Commute</th>\n",
       "      <th>Family</th>\n",
       "      <th>Area</th>\n",
       "    </tr>\n",
       "  </thead>\n",
       "  <tbody>\n",
       "    <tr>\n",
       "      <th>41</th>\n",
       "      <td>Ananta kandel</td>\n",
       "      <td>1003</td>\n",
       "      <td>Chitwan</td>\n",
       "      <td>Chitwan</td>\n",
       "      <td>Swyambhu</td>\n",
       "      <td>Scooter</td>\n",
       "      <td>20</td>\n",
       "      <td>5</td>\n",
       "      <td>West</td>\n",
       "    </tr>\n",
       "  </tbody>\n",
       "</table>\n",
       "</div>"
      ],
      "text/plain": [
       "             Name    Id      Born   Raised  Residence Transportation  Commute  \\\n",
       "41  Ananta kandel  1003  Chitwan   Chitwan  Swyambhu         Scooter       20   \n",
       "\n",
       "    Family  Area  \n",
       "41       5  West  "
      ]
     },
     "metadata": {},
     "output_type": "display_data"
    }
   ],
   "source": [
    "display(df_24C[df_24C[\"Born\"] == \"Chitwan\"],\n",
    "        df_24C[df_24C[\"Born\"] == \"Chitwan \"])\n"
   ]
  },
  {
   "cell_type": "code",
   "execution_count": 21,
   "metadata": {},
   "outputs": [],
   "source": [
    "df_24C.loc[df_24C[\"Born\"] == \"Chitwan\", \"Born\"] = \"Chitwan\""
   ]
  },
  {
   "cell_type": "code",
   "execution_count": 22,
   "metadata": {},
   "outputs": [
    {
     "name": "stderr",
     "output_type": "stream",
     "text": [
      "C:\\Users\\user\\AppData\\Local\\Temp\\ipykernel_2104\\1226882066.py:1: SettingWithCopyWarning: \n",
      "A value is trying to be set on a copy of a slice from a DataFrame\n",
      "\n",
      "See the caveats in the documentation: https://pandas.pydata.org/pandas-docs/stable/user_guide/indexing.html#returning-a-view-versus-a-copy\n",
      "  df_24C.iloc[41][\"Residence\"] = \"Swayambhu\"\n"
     ]
    }
   ],
   "source": [
    "df_24C.iloc[41][\"Residence\"] = \"Swayambhu\""
   ]
  },
  {
   "cell_type": "code",
   "execution_count": 23,
   "metadata": {},
   "outputs": [
    {
     "data": {
      "text/plain": [
       "Chabahil          5\n",
       "Sanepa            2\n",
       "Swyambhu          2\n",
       "Sifal             2\n",
       "Kapan             2\n",
       "Jorpati           2\n",
       "New Baneshwor     2\n",
       "Kalanki           1\n",
       "Minbhawan         1\n",
       "Balkot            1\n",
       "Yellow Pool       1\n",
       "SIfal             1\n",
       "Boudhha           1\n",
       "Balaju            1\n",
       "Asan              1\n",
       "Hattiban          1\n",
       "Lokanthali        1\n",
       "Sukedhara         1\n",
       "Bafal             1\n",
       "Budhanilkantha    1\n",
       "Pepsicola         1\n",
       "Naxal             1\n",
       "Thimi             1\n",
       "Gothatar          1\n",
       "Tikathali         1\n",
       "Kapurdhara        1\n",
       "Lazimpat          1\n",
       "Satdobato         1\n",
       "Maitidevi         1\n",
       "Shankhamul        1\n",
       "Naya Bazaar       1\n",
       "Dhumbarahi        1\n",
       "Name: Residence, dtype: int64"
      ]
     },
     "execution_count": 23,
     "metadata": {},
     "output_type": "execute_result"
    }
   ],
   "source": [
    "df_24C[\"Residence\"].value_counts()\n"
   ]
  },
  {
   "cell_type": "code",
   "execution_count": 24,
   "metadata": {},
   "outputs": [],
   "source": [
    "df_24C.loc[df_24C[\"Residence\"] == \"SIfal\", \"Residence\"] = \"Sifal\""
   ]
  },
  {
   "cell_type": "code",
   "execution_count": 25,
   "metadata": {},
   "outputs": [
    {
     "data": {
      "text/plain": [
       "Chabahil          5\n",
       "Sifal             3\n",
       "Sanepa            2\n",
       "Kapan             2\n",
       "Swyambhu          2\n",
       "New Baneshwor     2\n",
       "Jorpati           2\n",
       "Minbhawan         1\n",
       "Balkot            1\n",
       "Yellow Pool       1\n",
       "Lokanthali        1\n",
       "Boudhha           1\n",
       "Balaju            1\n",
       "Kalanki           1\n",
       "Hattiban          1\n",
       "Asan              1\n",
       "Sukedhara         1\n",
       "Bafal             1\n",
       "Pepsicola         1\n",
       "Budhanilkantha    1\n",
       "Naxal             1\n",
       "Thimi             1\n",
       "Gothatar          1\n",
       "Tikathali         1\n",
       "Kapurdhara        1\n",
       "Lazimpat          1\n",
       "Satdobato         1\n",
       "Maitidevi         1\n",
       "Shankhamul        1\n",
       "Naya Bazaar       1\n",
       "Dhumbarahi        1\n",
       "Name: Residence, dtype: int64"
      ]
     },
     "execution_count": 25,
     "metadata": {},
     "output_type": "execute_result"
    }
   ],
   "source": [
    "df_24C[\"Residence\"].value_counts()"
   ]
  },
  {
   "cell_type": "code",
   "execution_count": 26,
   "metadata": {},
   "outputs": [],
   "source": [
    "df_24C.loc[df_24C[\"Raised\"] == \"Kathamndu\", \"Raised\"] = \"Kathmandu\"\n",
    "df_24C.loc[df_24C[\"Raised\"] == \"Kathamandu\", \"Raised\"] = \"Kathmandu\"\n",
    "df_24C.loc[df_24C[\"Born\"] == \"Chitwan \", \"Born\"] = \"Chitwan\"\n",
    "df_24C.loc[df_24C[\"Born\"] == \"Kathamndu\", \"Born\"] = \"Kathmandu\""
   ]
  },
  {
   "cell_type": "code",
   "execution_count": 27,
   "metadata": {},
   "outputs": [
    {
     "data": {
      "text/plain": [
       "Kathmandu     23\n",
       "Lalitpur       9\n",
       "Morang         3\n",
       "Chitwan        2\n",
       "Jhapa          2\n",
       "Rupandehi      1\n",
       "Pokhara        1\n",
       "Kanchanpur     1\n",
       "Name: Born, dtype: int64"
      ]
     },
     "metadata": {},
     "output_type": "display_data"
    },
    {
     "data": {
      "text/plain": [
       "Kathmandu     30\n",
       "Lalitpur       5\n",
       "Bhaktapur      3\n",
       "Chitwan        1\n",
       "Rupandehi      1\n",
       "Kanchanpur     1\n",
       "Morang         1\n",
       "Name: Raised, dtype: int64"
      ]
     },
     "execution_count": 27,
     "metadata": {},
     "output_type": "execute_result"
    }
   ],
   "source": [
    "display(df_24C[\"Born\"].value_counts())\n",
    "df_24C.Raised.value_counts()"
   ]
  },
  {
   "cell_type": "markdown",
   "metadata": {},
   "source": [
    "There were no hospitals in Bhaktapur before 20 years as there are no people born in Bhaktapur\n"
   ]
  },
  {
   "cell_type": "code",
   "execution_count": 28,
   "metadata": {},
   "outputs": [
    {
     "data": {
      "text/plain": [
       "Scooter      12\n",
       "Foot         12\n",
       "Motorbike     8\n",
       "Public        7\n",
       "Car           2\n",
       "Cycle         1\n",
       "Name: Transportation, dtype: int64"
      ]
     },
     "execution_count": 28,
     "metadata": {},
     "output_type": "execute_result"
    }
   ],
   "source": [
    "df_24C.Transportation.value_counts()\n"
   ]
  },
  {
   "cell_type": "code",
   "execution_count": 29,
   "metadata": {},
   "outputs": [
    {
     "data": {
      "image/png": "[encoded data removed]",
      "text/plain": [
       "<Figure size 640x480 with 1 Axes>"
      ]
     },
     "metadata": {},
     "output_type": "display_data"
    }
   ],
   "source": [
    "sns.barplot(x=\"Transportation\", y=\"Commute\", data=df_24C, errorbar=None)\n",
    "plt.show()"
   ]
  },
  {
   "cell_type": "code",
   "execution_count": 30,
   "metadata": {},
   "outputs": [],
   "source": [
    "df_24C[\"Batch\"] = \"24C\""
   ]
  },
  {
   "cell_type": "code",
   "execution_count": 31,
   "metadata": {},
   "outputs": [
    {
     "data": {
      "text/html": [
       "<div>\n",
       "<style scoped>\n",
       "    .dataframe tbody tr th:only-of-type {\n",
       "        vertical-align: middle;\n",
       "    }\n",
       "\n",
       "    .dataframe tbody tr th {\n",
       "        vertical-align: top;\n",
       "    }\n",
       "\n",
       "    .dataframe thead th {\n",
       "        text-align: right;\n",
       "    }\n",
       "</style>\n",
       "<table border=\"1\" class=\"dataframe\">\n",
       "  <thead>\n",
       "    <tr style=\"text-align: right;\">\n",
       "      <th></th>\n",
       "      <th>Name</th>\n",
       "      <th>Id</th>\n",
       "      <th>Born</th>\n",
       "      <th>Raised</th>\n",
       "      <th>Residence</th>\n",
       "      <th>Transportation</th>\n",
       "      <th>Commute</th>\n",
       "      <th>Family</th>\n",
       "      <th>Area</th>\n",
       "      <th>Batch</th>\n",
       "    </tr>\n",
       "  </thead>\n",
       "  <tbody>\n",
       "    <tr>\n",
       "      <th>40</th>\n",
       "      <td>Aayush Badu</td>\n",
       "      <td>1001</td>\n",
       "      <td>Lalitpur</td>\n",
       "      <td>Kathmandu</td>\n",
       "      <td>Bafal</td>\n",
       "      <td>Motorbike</td>\n",
       "      <td>38</td>\n",
       "      <td>5</td>\n",
       "      <td>West</td>\n",
       "      <td>24C</td>\n",
       "    </tr>\n",
       "    <tr>\n",
       "      <th>41</th>\n",
       "      <td>Ananta kandel</td>\n",
       "      <td>1003</td>\n",
       "      <td>Chitwan</td>\n",
       "      <td>Chitwan</td>\n",
       "      <td>Swyambhu</td>\n",
       "      <td>Scooter</td>\n",
       "      <td>20</td>\n",
       "      <td>5</td>\n",
       "      <td>West</td>\n",
       "      <td>24C</td>\n",
       "    </tr>\n",
       "    <tr>\n",
       "      <th>21</th>\n",
       "      <td>Anish Regmi</td>\n",
       "      <td>1004</td>\n",
       "      <td>Kathmandu</td>\n",
       "      <td>Kathmandu</td>\n",
       "      <td>Naya Bazaar</td>\n",
       "      <td>Cycle</td>\n",
       "      <td>13</td>\n",
       "      <td>5</td>\n",
       "      <td>North</td>\n",
       "      <td>24C</td>\n",
       "    </tr>\n",
       "    <tr>\n",
       "      <th>2</th>\n",
       "      <td>Anish Subedi</td>\n",
       "      <td>1005</td>\n",
       "      <td>Kathmandu</td>\n",
       "      <td>Kathmandu</td>\n",
       "      <td>Jorpati</td>\n",
       "      <td>Motorbike</td>\n",
       "      <td>10</td>\n",
       "      <td>5</td>\n",
       "      <td>North-east</td>\n",
       "      <td>24C</td>\n",
       "    </tr>\n",
       "    <tr>\n",
       "      <th>33</th>\n",
       "      <td>Archita Kandel</td>\n",
       "      <td>1007</td>\n",
       "      <td>Rupandehi</td>\n",
       "      <td>Rupandehi</td>\n",
       "      <td>Shankhamul</td>\n",
       "      <td>Public</td>\n",
       "      <td>20</td>\n",
       "      <td>5</td>\n",
       "      <td>South</td>\n",
       "      <td>24C</td>\n",
       "    </tr>\n",
       "  </tbody>\n",
       "</table>\n",
       "</div>"
      ],
      "text/plain": [
       "              Name    Id       Born     Raised    Residence Transportation  \\\n",
       "40     Aayush Badu  1001   Lalitpur  Kathmandu        Bafal      Motorbike   \n",
       "41   Ananta kandel  1003    Chitwan    Chitwan    Swyambhu         Scooter   \n",
       "21     Anish Regmi  1004  Kathmandu  Kathmandu  Naya Bazaar          Cycle   \n",
       "2     Anish Subedi  1005  Kathmandu  Kathmandu      Jorpati      Motorbike   \n",
       "33  Archita Kandel  1007  Rupandehi  Rupandehi   Shankhamul         Public   \n",
       "\n",
       "    Commute  Family        Area Batch  \n",
       "40       38       5        West   24C  \n",
       "41       20       5        West   24C  \n",
       "21       13       5       North   24C  \n",
       "2        10       5  North-east   24C  \n",
       "33       20       5       South   24C  "
      ]
     },
     "execution_count": 31,
     "metadata": {},
     "output_type": "execute_result"
    }
   ],
   "source": [
    "df_24C.head()\n"
   ]
  },
  {
   "cell_type": "code",
   "execution_count": 32,
   "metadata": {},
   "outputs": [
    {
     "data": {
      "image/png": "[encoded data removed]",
      "text/plain": [
       "<Figure size 640x480 with 1 Axes>"
      ]
     },
     "metadata": {},
     "output_type": "display_data"
    }
   ],
   "source": [
    "df_24C.Family.value_counts()\n",
    "df_24C.Family = df_24C.Family.astype(\"category\")\n",
    "sns.histplot(x=\"Family\", data=df_24C)\n",
    "plt.show()"
   ]
  },
  {
   "cell_type": "code",
   "execution_count": 33,
   "metadata": {},
   "outputs": [],
   "source": [
    "df_24C_without_names = df_24C.drop(columns=[\"Name\"])\n"
   ]
  },
  {
   "cell_type": "markdown",
   "metadata": {},
   "source": [
    "# 2025 CSIT\n"
   ]
  },
  {
   "cell_type": "code",
   "execution_count": 34,
   "metadata": {},
   "outputs": [
    {
     "data": {
      "text/html": [
       "<div>\n",
       "<style scoped>\n",
       "    .dataframe tbody tr th:only-of-type {\n",
       "        vertical-align: middle;\n",
       "    }\n",
       "\n",
       "    .dataframe tbody tr th {\n",
       "        vertical-align: top;\n",
       "    }\n",
       "\n",
       "    .dataframe thead th {\n",
       "        text-align: right;\n",
       "    }\n",
       "</style>\n",
       "<table border=\"1\" class=\"dataframe\">\n",
       "  <thead>\n",
       "    <tr style=\"text-align: right;\">\n",
       "      <th></th>\n",
       "      <th>So</th>\n",
       "      <th>Id</th>\n",
       "      <th>Born</th>\n",
       "      <th>Raised</th>\n",
       "      <th>Residence</th>\n",
       "      <th>Transportation</th>\n",
       "      <th>Commute</th>\n",
       "      <th>Family</th>\n",
       "      <th>Area</th>\n",
       "    </tr>\n",
       "  </thead>\n",
       "  <tbody>\n",
       "    <tr>\n",
       "      <th>0</th>\n",
       "      <td>Avishek Parajuli</td>\n",
       "      <td>1115</td>\n",
       "      <td>Chitwan</td>\n",
       "      <td>Chitwan</td>\n",
       "      <td>Kirtipur</td>\n",
       "      <td>Public transport</td>\n",
       "      <td>90 minutes</td>\n",
       "      <td>4</td>\n",
       "      <td>South-West KTM</td>\n",
       "    </tr>\n",
       "    <tr>\n",
       "      <th>1</th>\n",
       "      <td>Suyash Adhikari</td>\n",
       "      <td>1143</td>\n",
       "      <td>Dhading</td>\n",
       "      <td>Kathmandu</td>\n",
       "      <td>Gurjudhara</td>\n",
       "      <td>Scooter</td>\n",
       "      <td>35 minutes</td>\n",
       "      <td>5</td>\n",
       "      <td>North KTM</td>\n",
       "    </tr>\n",
       "    <tr>\n",
       "      <th>2</th>\n",
       "      <td>Subhangi Lamichhane</td>\n",
       "      <td>1142</td>\n",
       "      <td>Kathmandu</td>\n",
       "      <td>Kathmandu</td>\n",
       "      <td>Chandol</td>\n",
       "      <td>Public transport</td>\n",
       "      <td>15 minutes</td>\n",
       "      <td>4</td>\n",
       "      <td>West KTM</td>\n",
       "    </tr>\n",
       "    <tr>\n",
       "      <th>3</th>\n",
       "      <td>Aashish Kadel</td>\n",
       "      <td>1112</td>\n",
       "      <td>Kathmandu</td>\n",
       "      <td>Kathmandu</td>\n",
       "      <td>Bagbazar</td>\n",
       "      <td>Scooter</td>\n",
       "      <td>15 minutes</td>\n",
       "      <td>5</td>\n",
       "      <td>North-west KTM</td>\n",
       "    </tr>\n",
       "    <tr>\n",
       "      <th>4</th>\n",
       "      <td>Aasara Bade Shrestha</td>\n",
       "      <td>1111</td>\n",
       "      <td>Kathmandu</td>\n",
       "      <td>Kathmandu</td>\n",
       "      <td>Nayabazar</td>\n",
       "      <td>Public transport</td>\n",
       "      <td>20 minutes</td>\n",
       "      <td>3</td>\n",
       "      <td>North KTM</td>\n",
       "    </tr>\n",
       "  </tbody>\n",
       "</table>\n",
       "</div>"
      ],
      "text/plain": [
       "                     So    Id       Born     Raised   Residence  \\\n",
       "0      Avishek Parajuli  1115    Chitwan    Chitwan    Kirtipur   \n",
       "1       Suyash Adhikari  1143    Dhading  Kathmandu  Gurjudhara   \n",
       "2   Subhangi Lamichhane  1142  Kathmandu  Kathmandu     Chandol   \n",
       "3         Aashish Kadel  1112  Kathmandu  Kathmandu    Bagbazar   \n",
       "4  Aasara Bade Shrestha  1111  Kathmandu  Kathmandu   Nayabazar   \n",
       "\n",
       "     Transportation     Commute  Family            Area  \n",
       "0  Public transport  90 minutes       4  South-West KTM  \n",
       "1           Scooter  35 minutes       5       North KTM  \n",
       "2  Public transport  15 minutes       4        West KTM  \n",
       "3           Scooter  15 minutes       5  North-west KTM  \n",
       "4  Public transport  20 minutes       3       North KTM  "
      ]
     },
     "execution_count": 34,
     "metadata": {},
     "output_type": "execute_result"
    }
   ],
   "source": [
    "df_25C.head()\n"
   ]
  },
  {
   "cell_type": "code",
   "execution_count": 35,
   "metadata": {},
   "outputs": [],
   "source": [
    "df = df_25C.copy()\n"
   ]
  },
  {
   "cell_type": "code",
   "execution_count": 36,
   "metadata": {},
   "outputs": [],
   "source": [
    "df.rename(columns={\"So\": \"Name\"}, inplace=True)\n",
    "df.sort_values(by=[\"Id\"], inplace=True)"
   ]
  },
  {
   "cell_type": "code",
   "execution_count": 37,
   "metadata": {},
   "outputs": [
    {
     "data": {
      "text/html": [
       "<div>\n",
       "<style scoped>\n",
       "    .dataframe tbody tr th:only-of-type {\n",
       "        vertical-align: middle;\n",
       "    }\n",
       "\n",
       "    .dataframe tbody tr th {\n",
       "        vertical-align: top;\n",
       "    }\n",
       "\n",
       "    .dataframe thead th {\n",
       "        text-align: right;\n",
       "    }\n",
       "</style>\n",
       "<table border=\"1\" class=\"dataframe\">\n",
       "  <thead>\n",
       "    <tr style=\"text-align: right;\">\n",
       "      <th></th>\n",
       "      <th>Name</th>\n",
       "      <th>Id</th>\n",
       "      <th>Born</th>\n",
       "      <th>Raised</th>\n",
       "      <th>Residence</th>\n",
       "      <th>Transportation</th>\n",
       "      <th>Commute</th>\n",
       "      <th>Family</th>\n",
       "      <th>Area</th>\n",
       "    </tr>\n",
       "  </thead>\n",
       "  <tbody>\n",
       "    <tr>\n",
       "      <th>18</th>\n",
       "      <td>Aryana Lamichhane</td>\n",
       "      <td>1102</td>\n",
       "      <td>Kathmandu</td>\n",
       "      <td>Kathmandu</td>\n",
       "      <td>Gausala</td>\n",
       "      <td>Public transport</td>\n",
       "      <td>20 minutes</td>\n",
       "      <td>5</td>\n",
       "      <td>East KTM</td>\n",
       "    </tr>\n",
       "    <tr>\n",
       "      <th>33</th>\n",
       "      <td>Adish Nidhi Tiwari</td>\n",
       "      <td>1107</td>\n",
       "      <td>Kathmandu</td>\n",
       "      <td>Kathmandu</td>\n",
       "      <td>Samakhusi</td>\n",
       "      <td>Motorcycle</td>\n",
       "      <td>15 minutes</td>\n",
       "      <td>5</td>\n",
       "      <td>North KTM</td>\n",
       "    </tr>\n",
       "    <tr>\n",
       "      <th>25</th>\n",
       "      <td>Anchit Acharya</td>\n",
       "      <td>1108</td>\n",
       "      <td>Bhaktapur</td>\n",
       "      <td>Bhaktapur</td>\n",
       "      <td>Changunaryan</td>\n",
       "      <td>Motorcycle</td>\n",
       "      <td>25 minutes</td>\n",
       "      <td>4</td>\n",
       "      <td>East KTM</td>\n",
       "    </tr>\n",
       "    <tr>\n",
       "      <th>7</th>\n",
       "      <td>Anshal Thapa</td>\n",
       "      <td>1109</td>\n",
       "      <td>Sunsari</td>\n",
       "      <td>Sunsari</td>\n",
       "      <td>Gothatar</td>\n",
       "      <td>Public transport</td>\n",
       "      <td>50 minutes</td>\n",
       "      <td>4</td>\n",
       "      <td>East KTM</td>\n",
       "    </tr>\n",
       "    <tr>\n",
       "      <th>31</th>\n",
       "      <td>Anusgya Dahal</td>\n",
       "      <td>1110</td>\n",
       "      <td>Sunsari</td>\n",
       "      <td>Sunsari</td>\n",
       "      <td>Kausaltar</td>\n",
       "      <td>Scooter</td>\n",
       "      <td>25 minutes</td>\n",
       "      <td>4</td>\n",
       "      <td>North-east KTM</td>\n",
       "    </tr>\n",
       "  </tbody>\n",
       "</table>\n",
       "</div>"
      ],
      "text/plain": [
       "                  Name    Id       Born     Raised     Residence  \\\n",
       "18   Aryana Lamichhane  1102  Kathmandu  Kathmandu       Gausala   \n",
       "33  Adish Nidhi Tiwari  1107  Kathmandu  Kathmandu     Samakhusi   \n",
       "25      Anchit Acharya  1108  Bhaktapur  Bhaktapur  Changunaryan   \n",
       "7         Anshal Thapa  1109    Sunsari    Sunsari      Gothatar   \n",
       "31       Anusgya Dahal  1110    Sunsari    Sunsari     Kausaltar   \n",
       "\n",
       "      Transportation     Commute  Family            Area  \n",
       "18  Public transport  20 minutes       5        East KTM  \n",
       "33        Motorcycle  15 minutes       5       North KTM  \n",
       "25        Motorcycle  25 minutes       4        East KTM  \n",
       "7   Public transport  50 minutes       4        East KTM  \n",
       "31           Scooter  25 minutes       4  North-east KTM  "
      ]
     },
     "execution_count": 37,
     "metadata": {},
     "output_type": "execute_result"
    }
   ],
   "source": [
    "df.head()\n"
   ]
  },
  {
   "cell_type": "code",
   "execution_count": 38,
   "metadata": {},
   "outputs": [
    {
     "data": {
      "text/plain": [
       "Kathmandu       18\n",
       "Sunsari          4\n",
       "Chitwan          3\n",
       "Lalitpur         2\n",
       "Bhaktapur        1\n",
       "Kaski            1\n",
       "Merut, India     1\n",
       "Makwanpur        1\n",
       "Dhading          1\n",
       "Jhapa            1\n",
       "Laltipur         1\n",
       "Name: Born, dtype: int64"
      ]
     },
     "execution_count": 38,
     "metadata": {},
     "output_type": "execute_result"
    }
   ],
   "source": [
    "df.Born.value_counts()\n"
   ]
  },
  {
   "cell_type": "code",
   "execution_count": 39,
   "metadata": {},
   "outputs": [],
   "source": [
    "df.loc[df[\"Born\"] == \"Laltipur\", \"Born\"] = \"Lalitpur\"\n",
    "df.loc[df[\"Raised\"] == \"Kathamndu\", \"Raised\"] = \"Kathmandu\""
   ]
  },
  {
   "cell_type": "code",
   "execution_count": 40,
   "metadata": {},
   "outputs": [
    {
     "data": {
      "text/plain": [
       "Kathmandu    23\n",
       "Sunsari       3\n",
       "Bhaktapur     2\n",
       "Chitwan       2\n",
       "Kaski         1\n",
       "Makwanpur     1\n",
       "Jhapa         1\n",
       "Lalitpur      1\n",
       "Name: Raised, dtype: int64"
      ]
     },
     "execution_count": 40,
     "metadata": {},
     "output_type": "execute_result"
    }
   ],
   "source": [
    "df.Raised.value_counts()\n"
   ]
  },
  {
   "cell_type": "code",
   "execution_count": 41,
   "metadata": {},
   "outputs": [
    {
     "data": {
      "text/plain": [
       "Gothatar        3\n",
       "Jorpati         2\n",
       "Gausala         1\n",
       "Balkumari       1\n",
       "Khusibu         1\n",
       "Patan           1\n",
       "Ratopul         1\n",
       "Koteshwor       1\n",
       "Gurjudhara      1\n",
       "Chandol         1\n",
       "Suryabinayak    1\n",
       "Lainchaur       1\n",
       "Raniban         1\n",
       "Dhumbarahi      1\n",
       "Satungal        1\n",
       "Purano Thimi    1\n",
       "Sanobharyang    1\n",
       "Pepsicola       1\n",
       "Samakhusi       1\n",
       "Balkhu          1\n",
       "Bansbari        1\n",
       "Basundhara      1\n",
       "Sukedhara       1\n",
       "Banasthali      1\n",
       "Kirtipur        1\n",
       "Bagbazar        1\n",
       "Tokha           1\n",
       "Nayabazar       1\n",
       "Kausaltar       1\n",
       "Changunaryan    1\n",
       "Gaurighat       1\n",
       "Name: Residence, dtype: int64"
      ]
     },
     "execution_count": 41,
     "metadata": {},
     "output_type": "execute_result"
    }
   ],
   "source": [
    "df.Residence.value_counts()\n"
   ]
  },
  {
   "cell_type": "code",
   "execution_count": 42,
   "metadata": {},
   "outputs": [
    {
     "data": {
      "text/plain": [
       "Public transport    12\n",
       "Motorcycle          11\n",
       "Scooter              9\n",
       "Cycle                1\n",
       "Walk                 1\n",
       "Name: Transportation, dtype: int64"
      ]
     },
     "execution_count": 42,
     "metadata": {},
     "output_type": "execute_result"
    }
   ],
   "source": [
    "df.Transportation.value_counts()\n"
   ]
  },
  {
   "cell_type": "code",
   "execution_count": 43,
   "metadata": {},
   "outputs": [],
   "source": [
    "df.Transportation = df.Transportation.apply(lambda x: x.split(\" \")[0])\n"
   ]
  },
  {
   "cell_type": "code",
   "execution_count": 44,
   "metadata": {},
   "outputs": [],
   "source": [
    "df.loc[df[\"Transportation\"] == \"Motorcycle\", \"Transportation\"] = \"Motorbike\"\n",
    "df.loc[df[\"Transportation\"] == \"Walk\", \"Transportation\"] = \"Foot\""
   ]
  },
  {
   "cell_type": "code",
   "execution_count": 45,
   "metadata": {},
   "outputs": [],
   "source": [
    "df.Commute = df.Commute.apply(lambda x: int(x.split(\" \")[0]))"
   ]
  },
  {
   "cell_type": "code",
   "execution_count": 46,
   "metadata": {},
   "outputs": [],
   "source": [
    "df.Area = df.Area.apply(lambda x: str(x.split(\" \")[0]))\n"
   ]
  },
  {
   "cell_type": "code",
   "execution_count": 47,
   "metadata": {},
   "outputs": [
    {
     "data": {
      "text/plain": [
       "East          10\n",
       "North         10\n",
       "West           5\n",
       "North-east     3\n",
       "North-west     3\n",
       "South          2\n",
       "South-West     1\n",
       "Name: Area, dtype: int64"
      ]
     },
     "execution_count": 47,
     "metadata": {},
     "output_type": "execute_result"
    }
   ],
   "source": [
    "df.Area.value_counts()\n"
   ]
  },
  {
   "cell_type": "code",
   "execution_count": 48,
   "metadata": {},
   "outputs": [
    {
     "data": {
      "text/html": [
       "<div>\n",
       "<style scoped>\n",
       "    .dataframe tbody tr th:only-of-type {\n",
       "        vertical-align: middle;\n",
       "    }\n",
       "\n",
       "    .dataframe tbody tr th {\n",
       "        vertical-align: top;\n",
       "    }\n",
       "\n",
       "    .dataframe thead th {\n",
       "        text-align: right;\n",
       "    }\n",
       "</style>\n",
       "<table border=\"1\" class=\"dataframe\">\n",
       "  <thead>\n",
       "    <tr style=\"text-align: right;\">\n",
       "      <th></th>\n",
       "      <th>Id</th>\n",
       "      <th>Born</th>\n",
       "      <th>Raised</th>\n",
       "      <th>Residence</th>\n",
       "      <th>Transportation</th>\n",
       "      <th>Commute</th>\n",
       "      <th>Family</th>\n",
       "      <th>Area</th>\n",
       "      <th>Batch</th>\n",
       "    </tr>\n",
       "  </thead>\n",
       "  <tbody>\n",
       "    <tr>\n",
       "      <th>18</th>\n",
       "      <td>1102</td>\n",
       "      <td>Kathmandu</td>\n",
       "      <td>Kathmandu</td>\n",
       "      <td>Gausala</td>\n",
       "      <td>Public</td>\n",
       "      <td>20</td>\n",
       "      <td>5</td>\n",
       "      <td>East</td>\n",
       "      <td>25C</td>\n",
       "    </tr>\n",
       "    <tr>\n",
       "      <th>33</th>\n",
       "      <td>1107</td>\n",
       "      <td>Kathmandu</td>\n",
       "      <td>Kathmandu</td>\n",
       "      <td>Samakhusi</td>\n",
       "      <td>Motorbike</td>\n",
       "      <td>15</td>\n",
       "      <td>5</td>\n",
       "      <td>North</td>\n",
       "      <td>25C</td>\n",
       "    </tr>\n",
       "    <tr>\n",
       "      <th>25</th>\n",
       "      <td>1108</td>\n",
       "      <td>Bhaktapur</td>\n",
       "      <td>Bhaktapur</td>\n",
       "      <td>Changunaryan</td>\n",
       "      <td>Motorbike</td>\n",
       "      <td>25</td>\n",
       "      <td>4</td>\n",
       "      <td>East</td>\n",
       "      <td>25C</td>\n",
       "    </tr>\n",
       "    <tr>\n",
       "      <th>7</th>\n",
       "      <td>1109</td>\n",
       "      <td>Sunsari</td>\n",
       "      <td>Sunsari</td>\n",
       "      <td>Gothatar</td>\n",
       "      <td>Public</td>\n",
       "      <td>50</td>\n",
       "      <td>4</td>\n",
       "      <td>East</td>\n",
       "      <td>25C</td>\n",
       "    </tr>\n",
       "    <tr>\n",
       "      <th>31</th>\n",
       "      <td>1110</td>\n",
       "      <td>Sunsari</td>\n",
       "      <td>Sunsari</td>\n",
       "      <td>Kausaltar</td>\n",
       "      <td>Scooter</td>\n",
       "      <td>25</td>\n",
       "      <td>4</td>\n",
       "      <td>North-east</td>\n",
       "      <td>25C</td>\n",
       "    </tr>\n",
       "  </tbody>\n",
       "</table>\n",
       "</div>"
      ],
      "text/plain": [
       "      Id       Born     Raised     Residence Transportation  Commute  Family  \\\n",
       "18  1102  Kathmandu  Kathmandu       Gausala         Public       20       5   \n",
       "33  1107  Kathmandu  Kathmandu     Samakhusi      Motorbike       15       5   \n",
       "25  1108  Bhaktapur  Bhaktapur  Changunaryan      Motorbike       25       4   \n",
       "7   1109    Sunsari    Sunsari      Gothatar         Public       50       4   \n",
       "31  1110    Sunsari    Sunsari     Kausaltar        Scooter       25       4   \n",
       "\n",
       "          Area Batch  \n",
       "18        East   25C  \n",
       "33       North   25C  \n",
       "25        East   25C  \n",
       "7         East   25C  \n",
       "31  North-east   25C  "
      ]
     },
     "execution_count": 48,
     "metadata": {},
     "output_type": "execute_result"
    }
   ],
   "source": [
    "df_25C_without_names = df.drop(columns=[\"Name\"])\n",
    "df_25C_without_names[\"Batch\"] = \"25C\"\n",
    "df_25C_without_names.head()"
   ]
  },
  {
   "cell_type": "markdown",
   "metadata": {},
   "source": [
    "# 2025 BCA\n"
   ]
  },
  {
   "cell_type": "code",
   "execution_count": 49,
   "metadata": {},
   "outputs": [
    {
     "data": {
      "text/html": [
       "<div>\n",
       "<style scoped>\n",
       "    .dataframe tbody tr th:only-of-type {\n",
       "        vertical-align: middle;\n",
       "    }\n",
       "\n",
       "    .dataframe tbody tr th {\n",
       "        vertical-align: top;\n",
       "    }\n",
       "\n",
       "    .dataframe thead th {\n",
       "        text-align: right;\n",
       "    }\n",
       "</style>\n",
       "<table border=\"1\" class=\"dataframe\">\n",
       "  <thead>\n",
       "    <tr style=\"text-align: right;\">\n",
       "      <th></th>\n",
       "      <th>Name</th>\n",
       "      <th>Id</th>\n",
       "      <th>Born</th>\n",
       "      <th>Raised</th>\n",
       "      <th>Residence</th>\n",
       "      <th>Transportation</th>\n",
       "      <th>Commute</th>\n",
       "      <th>Family</th>\n",
       "      <th>Area</th>\n",
       "    </tr>\n",
       "  </thead>\n",
       "  <tbody>\n",
       "    <tr>\n",
       "      <th>0</th>\n",
       "      <td>Stuti Paudel</td>\n",
       "      <td>427</td>\n",
       "      <td>KTM</td>\n",
       "      <td>KTM</td>\n",
       "      <td>Sifal</td>\n",
       "      <td>By foot</td>\n",
       "      <td>5min</td>\n",
       "      <td>4</td>\n",
       "      <td>North-west KTM</td>\n",
       "    </tr>\n",
       "    <tr>\n",
       "      <th>1</th>\n",
       "      <td>Abhigya Karmacharya</td>\n",
       "      <td>402</td>\n",
       "      <td>KTM</td>\n",
       "      <td>KTM</td>\n",
       "      <td>Chabahil</td>\n",
       "      <td>Foot</td>\n",
       "      <td>25 min</td>\n",
       "      <td>3</td>\n",
       "      <td>North-east KTM</td>\n",
       "    </tr>\n",
       "    <tr>\n",
       "      <th>2</th>\n",
       "      <td>Sharbani Bhattarai</td>\n",
       "      <td>416</td>\n",
       "      <td>KTM</td>\n",
       "      <td>KTM</td>\n",
       "      <td>Baneshwor</td>\n",
       "      <td>Scooter</td>\n",
       "      <td>10 min</td>\n",
       "      <td>8</td>\n",
       "      <td>East KTM</td>\n",
       "    </tr>\n",
       "    <tr>\n",
       "      <th>3</th>\n",
       "      <td>Sheetashma Karki</td>\n",
       "      <td>417</td>\n",
       "      <td>Lalitpur</td>\n",
       "      <td>Lalitpur</td>\n",
       "      <td>Godawari</td>\n",
       "      <td>Scooter</td>\n",
       "      <td>40 min</td>\n",
       "      <td>5</td>\n",
       "      <td>South from KTM</td>\n",
       "    </tr>\n",
       "    <tr>\n",
       "      <th>4</th>\n",
       "      <td>Ritika Phuyal</td>\n",
       "      <td>413</td>\n",
       "      <td>KTM</td>\n",
       "      <td>KTM</td>\n",
       "      <td>Narayantaar</td>\n",
       "      <td>Scooter</td>\n",
       "      <td>25 min</td>\n",
       "      <td>5</td>\n",
       "      <td>North KTM</td>\n",
       "    </tr>\n",
       "    <tr>\n",
       "      <th>5</th>\n",
       "      <td>Pariskrit Bhagat</td>\n",
       "      <td>412</td>\n",
       "      <td>Biratnagar</td>\n",
       "      <td>Biratnagar</td>\n",
       "      <td>kalo pul</td>\n",
       "      <td>By foot</td>\n",
       "      <td>5 min</td>\n",
       "      <td>4</td>\n",
       "      <td>West KTM</td>\n",
       "    </tr>\n",
       "    <tr>\n",
       "      <th>6</th>\n",
       "      <td>Ujjwal Basnet</td>\n",
       "      <td>426</td>\n",
       "      <td>Biratnagar</td>\n",
       "      <td>Biratnagar</td>\n",
       "      <td>Lokanthali</td>\n",
       "      <td>By bus</td>\n",
       "      <td>40min</td>\n",
       "      <td>4</td>\n",
       "      <td>East-North east KTM</td>\n",
       "    </tr>\n",
       "  </tbody>\n",
       "</table>\n",
       "</div>"
      ],
      "text/plain": [
       "                  Name   Id        Born      Raised    Residence  \\\n",
       "0         Stuti Paudel  427         KTM         KTM        Sifal   \n",
       "1  Abhigya Karmacharya  402         KTM         KTM     Chabahil   \n",
       "2   Sharbani Bhattarai  416         KTM         KTM    Baneshwor   \n",
       "3     Sheetashma Karki  417    Lalitpur    Lalitpur     Godawari   \n",
       "4        Ritika Phuyal  413         KTM         KTM  Narayantaar   \n",
       "5     Pariskrit Bhagat  412  Biratnagar  Biratnagar     kalo pul   \n",
       "6        Ujjwal Basnet  426  Biratnagar  Biratnagar   Lokanthali   \n",
       "\n",
       "  Transportation Commute  Family                 Area  \n",
       "0        By foot    5min       4       North-west KTM  \n",
       "1           Foot  25 min       3       North-east KTM  \n",
       "2        Scooter  10 min       8             East KTM  \n",
       "3        Scooter  40 min       5       South from KTM  \n",
       "4        Scooter  25 min       5            North KTM  \n",
       "5        By foot  5 min        4             West KTM  \n",
       "6         By bus   40min       4  East-North east KTM  "
      ]
     },
     "execution_count": 49,
     "metadata": {},
     "output_type": "execute_result"
    }
   ],
   "source": [
    "df = df_25B.copy()\n",
    "df\n"
   ]
  },
  {
   "cell_type": "code",
   "execution_count": 50,
   "metadata": {},
   "outputs": [
    {
     "data": {
      "text/plain": [
       "Scooter    3\n",
       "By foot    2\n",
       "Foot       1\n",
       "By bus     1\n",
       "Name: Transportation, dtype: int64"
      ]
     },
     "execution_count": 50,
     "metadata": {},
     "output_type": "execute_result"
    }
   ],
   "source": [
    "df.Born.value_counts()\n",
    "df.Residence.value_counts()\n",
    "df.Raised.value_counts()\n",
    "df.Transportation.value_counts()\n"
   ]
  },
  {
   "cell_type": "code",
   "execution_count": 51,
   "metadata": {},
   "outputs": [],
   "source": [
    "df.loc[df[\"Born\"] == \"KTM\", \"Born\"] = \"Kathmandu\"\n",
    "df.loc[df[\"Raised\"] == \"KTM\", \"Raised\"] = \"Kathmandu\"\n",
    "df.loc[df[\"Transportation\"] == \"By foot\", \"Transportation\"] = \"Foot\"\n",
    "df.loc[df[\"Transportation\"] == \"By bus\", \"Transportation\"] = \"Public\""
   ]
  },
  {
   "cell_type": "code",
   "execution_count": 52,
   "metadata": {},
   "outputs": [],
   "source": [
    "df.Commute = df.Commute.apply(lambda x: x.split(\" \")[0])\n",
    "df.Commute = df.Commute.apply(lambda x: x.split(\"m\")[0])\n",
    "df.Commute = df.Commute.astype(\"int64\")\n"
   ]
  },
  {
   "cell_type": "code",
   "execution_count": 53,
   "metadata": {},
   "outputs": [
    {
     "data": {
      "text/plain": [
       "Name              object\n",
       "Id                 int64\n",
       "Born              object\n",
       "Raised            object\n",
       "Residence         object\n",
       "Transportation    object\n",
       "Commute            int64\n",
       "Family             int64\n",
       "Area              object\n",
       "dtype: object"
      ]
     },
     "execution_count": 53,
     "metadata": {},
     "output_type": "execute_result"
    }
   ],
   "source": [
    "df.dtypes\n"
   ]
  },
  {
   "cell_type": "code",
   "execution_count": 54,
   "metadata": {},
   "outputs": [],
   "source": [
    "df.Area = df.Area.apply(lambda x: x.split(\" \")[0])\n"
   ]
  },
  {
   "cell_type": "code",
   "execution_count": 55,
   "metadata": {},
   "outputs": [
    {
     "data": {
      "text/plain": [
       "North-west    1\n",
       "North-east    1\n",
       "East          1\n",
       "South         1\n",
       "North         1\n",
       "West          1\n",
       "East-North    1\n",
       "Name: Area, dtype: int64"
      ]
     },
     "execution_count": 55,
     "metadata": {},
     "output_type": "execute_result"
    }
   ],
   "source": [
    "df.Area.value_counts()\n"
   ]
  },
  {
   "cell_type": "code",
   "execution_count": 56,
   "metadata": {},
   "outputs": [],
   "source": [
    "df.loc[df[\"Area\"] == \"East-North\", \"Area\"] = \"North-east\"\n",
    "df.sort_values(by=[\"Id\"], inplace=True)"
   ]
  },
  {
   "cell_type": "code",
   "execution_count": 57,
   "metadata": {},
   "outputs": [
    {
     "data": {
      "text/html": [
       "<div>\n",
       "<style scoped>\n",
       "    .dataframe tbody tr th:only-of-type {\n",
       "        vertical-align: middle;\n",
       "    }\n",
       "\n",
       "    .dataframe tbody tr th {\n",
       "        vertical-align: top;\n",
       "    }\n",
       "\n",
       "    .dataframe thead th {\n",
       "        text-align: right;\n",
       "    }\n",
       "</style>\n",
       "<table border=\"1\" class=\"dataframe\">\n",
       "  <thead>\n",
       "    <tr style=\"text-align: right;\">\n",
       "      <th></th>\n",
       "      <th>Id</th>\n",
       "      <th>Born</th>\n",
       "      <th>Raised</th>\n",
       "      <th>Residence</th>\n",
       "      <th>Transportation</th>\n",
       "      <th>Commute</th>\n",
       "      <th>Family</th>\n",
       "      <th>Area</th>\n",
       "      <th>Batch</th>\n",
       "    </tr>\n",
       "  </thead>\n",
       "  <tbody>\n",
       "    <tr>\n",
       "      <th>1</th>\n",
       "      <td>402</td>\n",
       "      <td>Kathmandu</td>\n",
       "      <td>Kathmandu</td>\n",
       "      <td>Chabahil</td>\n",
       "      <td>Foot</td>\n",
       "      <td>25</td>\n",
       "      <td>3</td>\n",
       "      <td>North-east</td>\n",
       "      <td>25B</td>\n",
       "    </tr>\n",
       "    <tr>\n",
       "      <th>5</th>\n",
       "      <td>412</td>\n",
       "      <td>Biratnagar</td>\n",
       "      <td>Biratnagar</td>\n",
       "      <td>kalo pul</td>\n",
       "      <td>Foot</td>\n",
       "      <td>5</td>\n",
       "      <td>4</td>\n",
       "      <td>West</td>\n",
       "      <td>25B</td>\n",
       "    </tr>\n",
       "    <tr>\n",
       "      <th>4</th>\n",
       "      <td>413</td>\n",
       "      <td>Kathmandu</td>\n",
       "      <td>Kathmandu</td>\n",
       "      <td>Narayantaar</td>\n",
       "      <td>Scooter</td>\n",
       "      <td>25</td>\n",
       "      <td>5</td>\n",
       "      <td>North</td>\n",
       "      <td>25B</td>\n",
       "    </tr>\n",
       "    <tr>\n",
       "      <th>2</th>\n",
       "      <td>416</td>\n",
       "      <td>Kathmandu</td>\n",
       "      <td>Kathmandu</td>\n",
       "      <td>Baneshwor</td>\n",
       "      <td>Scooter</td>\n",
       "      <td>10</td>\n",
       "      <td>8</td>\n",
       "      <td>East</td>\n",
       "      <td>25B</td>\n",
       "    </tr>\n",
       "    <tr>\n",
       "      <th>3</th>\n",
       "      <td>417</td>\n",
       "      <td>Lalitpur</td>\n",
       "      <td>Lalitpur</td>\n",
       "      <td>Godawari</td>\n",
       "      <td>Scooter</td>\n",
       "      <td>40</td>\n",
       "      <td>5</td>\n",
       "      <td>South</td>\n",
       "      <td>25B</td>\n",
       "    </tr>\n",
       "  </tbody>\n",
       "</table>\n",
       "</div>"
      ],
      "text/plain": [
       "    Id        Born      Raised    Residence Transportation  Commute  Family  \\\n",
       "1  402   Kathmandu   Kathmandu     Chabahil           Foot       25       3   \n",
       "5  412  Biratnagar  Biratnagar     kalo pul           Foot        5       4   \n",
       "4  413   Kathmandu   Kathmandu  Narayantaar        Scooter       25       5   \n",
       "2  416   Kathmandu   Kathmandu    Baneshwor        Scooter       10       8   \n",
       "3  417    Lalitpur    Lalitpur     Godawari        Scooter       40       5   \n",
       "\n",
       "         Area Batch  \n",
       "1  North-east   25B  \n",
       "5        West   25B  \n",
       "4       North   25B  \n",
       "2        East   25B  \n",
       "3       South   25B  "
      ]
     },
     "execution_count": 57,
     "metadata": {},
     "output_type": "execute_result"
    }
   ],
   "source": [
    "df_25B_without_names = df.drop(columns=[\"Name\"])\n",
    "df_25B_without_names[\"Batch\"] = \"25B\"\n",
    "df_25B_without_names.head()"
   ]
  },
  {
   "cell_type": "markdown",
   "metadata": {},
   "source": [
    "# 2026 CSIT\n"
   ]
  },
  {
   "cell_type": "code",
   "execution_count": 58,
   "metadata": {},
   "outputs": [],
   "source": [
    "df = df_26C.copy()\n"
   ]
  },
  {
   "cell_type": "code",
   "execution_count": 59,
   "metadata": {},
   "outputs": [
    {
     "data": {
      "text/html": [
       "<div>\n",
       "<style scoped>\n",
       "    .dataframe tbody tr th:only-of-type {\n",
       "        vertical-align: middle;\n",
       "    }\n",
       "\n",
       "    .dataframe tbody tr th {\n",
       "        vertical-align: top;\n",
       "    }\n",
       "\n",
       "    .dataframe thead th {\n",
       "        text-align: right;\n",
       "    }\n",
       "</style>\n",
       "<table border=\"1\" class=\"dataframe\">\n",
       "  <thead>\n",
       "    <tr style=\"text-align: right;\">\n",
       "      <th></th>\n",
       "      <th>Name</th>\n",
       "      <th>Id</th>\n",
       "      <th>Born</th>\n",
       "      <th>Raised</th>\n",
       "      <th>Residence</th>\n",
       "      <th>Transportation</th>\n",
       "      <th>Commute</th>\n",
       "      <th>Family</th>\n",
       "      <th>Area</th>\n",
       "    </tr>\n",
       "  </thead>\n",
       "  <tbody>\n",
       "    <tr>\n",
       "      <th>0</th>\n",
       "      <td>Aashutosh Bikram Karki</td>\n",
       "      <td>1201</td>\n",
       "      <td>Morang</td>\n",
       "      <td>Morang</td>\n",
       "      <td>Maitidevi</td>\n",
       "      <td>Walking</td>\n",
       "      <td>30 min</td>\n",
       "      <td>4</td>\n",
       "      <td>West KTM</td>\n",
       "    </tr>\n",
       "    <tr>\n",
       "      <th>1</th>\n",
       "      <td>Aashutosh Pudasaini</td>\n",
       "      <td>1202</td>\n",
       "      <td>Kathmandu</td>\n",
       "      <td>Kathmandu</td>\n",
       "      <td>Guheshwori</td>\n",
       "      <td>Bike</td>\n",
       "      <td>20 min</td>\n",
       "      <td>5</td>\n",
       "      <td>South KTM</td>\n",
       "    </tr>\n",
       "    <tr>\n",
       "      <th>2</th>\n",
       "      <td>Adhit Upadhyay</td>\n",
       "      <td>1203</td>\n",
       "      <td>Kathmandu</td>\n",
       "      <td>Kathmandu</td>\n",
       "      <td>Siphal</td>\n",
       "      <td>Walking</td>\n",
       "      <td>5 min</td>\n",
       "      <td>5</td>\n",
       "      <td>North-east KTM</td>\n",
       "    </tr>\n",
       "    <tr>\n",
       "      <th>3</th>\n",
       "      <td>Akhilesh Sharma</td>\n",
       "      <td>1204</td>\n",
       "      <td>Kathmandu</td>\n",
       "      <td>Kathmandu</td>\n",
       "      <td>Maitidevi</td>\n",
       "      <td>Scooty</td>\n",
       "      <td>6 min</td>\n",
       "      <td>6</td>\n",
       "      <td>West KTM</td>\n",
       "    </tr>\n",
       "    <tr>\n",
       "      <th>4</th>\n",
       "      <td>Aryan Khatri</td>\n",
       "      <td>1205</td>\n",
       "      <td>Jhapa</td>\n",
       "      <td>Jhapa</td>\n",
       "      <td>Baneshwor</td>\n",
       "      <td>Scooty</td>\n",
       "      <td>15 min</td>\n",
       "      <td>5</td>\n",
       "      <td>East KTM</td>\n",
       "    </tr>\n",
       "  </tbody>\n",
       "</table>\n",
       "</div>"
      ],
      "text/plain": [
       "                     Name    Id       Born     Raised   Residence  \\\n",
       "0  Aashutosh Bikram Karki  1201     Morang     Morang   Maitidevi   \n",
       "1     Aashutosh Pudasaini  1202  Kathmandu  Kathmandu  Guheshwori   \n",
       "2          Adhit Upadhyay  1203  Kathmandu  Kathmandu      Siphal   \n",
       "3         Akhilesh Sharma  1204  Kathmandu  Kathmandu   Maitidevi   \n",
       "4            Aryan Khatri  1205      Jhapa      Jhapa   Baneshwor   \n",
       "\n",
       "  Transportation Commute  Family            Area  \n",
       "0        Walking  30 min       4        West KTM  \n",
       "1           Bike  20 min       5       South KTM  \n",
       "2        Walking   5 min       5  North-east KTM  \n",
       "3         Scooty   6 min       6        West KTM  \n",
       "4         Scooty  15 min       5        East KTM  "
      ]
     },
     "execution_count": 59,
     "metadata": {},
     "output_type": "execute_result"
    }
   ],
   "source": [
    "df.head()\n"
   ]
  },
  {
   "cell_type": "code",
   "execution_count": 60,
   "metadata": {},
   "outputs": [
    {
     "data": {
      "text/html": [
       "<div>\n",
       "<style scoped>\n",
       "    .dataframe tbody tr th:only-of-type {\n",
       "        vertical-align: middle;\n",
       "    }\n",
       "\n",
       "    .dataframe tbody tr th {\n",
       "        vertical-align: top;\n",
       "    }\n",
       "\n",
       "    .dataframe thead th {\n",
       "        text-align: right;\n",
       "    }\n",
       "</style>\n",
       "<table border=\"1\" class=\"dataframe\">\n",
       "  <thead>\n",
       "    <tr style=\"text-align: right;\">\n",
       "      <th></th>\n",
       "      <th>Name</th>\n",
       "      <th>Id</th>\n",
       "      <th>Born</th>\n",
       "      <th>Raised</th>\n",
       "      <th>Residence</th>\n",
       "      <th>Transportation</th>\n",
       "      <th>Commute</th>\n",
       "      <th>Family</th>\n",
       "      <th>Area</th>\n",
       "    </tr>\n",
       "  </thead>\n",
       "  <tbody>\n",
       "    <tr>\n",
       "      <th>0</th>\n",
       "      <td>Aashutosh Bikram Karki</td>\n",
       "      <td>1201</td>\n",
       "      <td>Morang</td>\n",
       "      <td>Morang</td>\n",
       "      <td>Maitidevi</td>\n",
       "      <td>Walking</td>\n",
       "      <td>30 min</td>\n",
       "      <td>4</td>\n",
       "      <td>West KTM</td>\n",
       "    </tr>\n",
       "    <tr>\n",
       "      <th>1</th>\n",
       "      <td>Aashutosh Pudasaini</td>\n",
       "      <td>1202</td>\n",
       "      <td>Kathmandu</td>\n",
       "      <td>Kathmandu</td>\n",
       "      <td>Guheshwori</td>\n",
       "      <td>Bike</td>\n",
       "      <td>20 min</td>\n",
       "      <td>5</td>\n",
       "      <td>South KTM</td>\n",
       "    </tr>\n",
       "    <tr>\n",
       "      <th>2</th>\n",
       "      <td>Adhit Upadhyay</td>\n",
       "      <td>1203</td>\n",
       "      <td>Kathmandu</td>\n",
       "      <td>Kathmandu</td>\n",
       "      <td>Siphal</td>\n",
       "      <td>Walking</td>\n",
       "      <td>5 min</td>\n",
       "      <td>5</td>\n",
       "      <td>North-east KTM</td>\n",
       "    </tr>\n",
       "    <tr>\n",
       "      <th>3</th>\n",
       "      <td>Akhilesh Sharma</td>\n",
       "      <td>1204</td>\n",
       "      <td>Kathmandu</td>\n",
       "      <td>Kathmandu</td>\n",
       "      <td>Maitidevi</td>\n",
       "      <td>Scooty</td>\n",
       "      <td>6 min</td>\n",
       "      <td>6</td>\n",
       "      <td>West KTM</td>\n",
       "    </tr>\n",
       "    <tr>\n",
       "      <th>4</th>\n",
       "      <td>Aryan Khatri</td>\n",
       "      <td>1205</td>\n",
       "      <td>Jhapa</td>\n",
       "      <td>Jhapa</td>\n",
       "      <td>Baneshwor</td>\n",
       "      <td>Scooty</td>\n",
       "      <td>15 min</td>\n",
       "      <td>5</td>\n",
       "      <td>East KTM</td>\n",
       "    </tr>\n",
       "  </tbody>\n",
       "</table>\n",
       "</div>"
      ],
      "text/plain": [
       "                     Name    Id       Born     Raised   Residence  \\\n",
       "0  Aashutosh Bikram Karki  1201     Morang     Morang   Maitidevi   \n",
       "1     Aashutosh Pudasaini  1202  Kathmandu  Kathmandu  Guheshwori   \n",
       "2          Adhit Upadhyay  1203  Kathmandu  Kathmandu      Siphal   \n",
       "3         Akhilesh Sharma  1204  Kathmandu  Kathmandu   Maitidevi   \n",
       "4            Aryan Khatri  1205      Jhapa      Jhapa   Baneshwor   \n",
       "\n",
       "  Transportation Commute  Family            Area  \n",
       "0        Walking  30 min       4        West KTM  \n",
       "1           Bike  20 min       5       South KTM  \n",
       "2        Walking   5 min       5  North-east KTM  \n",
       "3         Scooty   6 min       6        West KTM  \n",
       "4         Scooty  15 min       5        East KTM  "
      ]
     },
     "execution_count": 60,
     "metadata": {},
     "output_type": "execute_result"
    }
   ],
   "source": [
    "df.sort_values(by=[\"Id\"], inplace=True)\n",
    "df.head()"
   ]
  },
  {
   "cell_type": "code",
   "execution_count": 61,
   "metadata": {},
   "outputs": [
    {
     "data": {
      "text/plain": [
       "Kathmandu             22\n",
       "Lalitpur               5\n",
       "Jhapa                  3\n",
       "Morang                 2\n",
       "Bhaktapur              2\n",
       "Rupenhedi              2\n",
       "Chitwan                1\n",
       "Chitwan/Kathmandu      1\n",
       "Kaski                  1\n",
       "Biratnagar/Bhojpur     1\n",
       "Dharan                 1\n",
       "baden wuertemberg      1\n",
       "Illam                  1\n",
       "Name: Raised, dtype: int64"
      ]
     },
     "execution_count": 61,
     "metadata": {},
     "output_type": "execute_result"
    }
   ],
   "source": [
    "df.Born.value_counts()\n",
    "df.Raised.value_counts()\n"
   ]
  },
  {
   "cell_type": "code",
   "execution_count": 62,
   "metadata": {},
   "outputs": [],
   "source": [
    "df.loc[df[\"Born\"] == \"Patan\", \"Born\"] = \"Lalitpur\"\n",
    "df.loc[df[\"Born\"] == \"Rupenhedi\", \"Born\"] = \"Rupandehi\"\n",
    "df.loc[df[\"Raised\"] == \"Rupenhedi\", \"Raised\"] = \"Rupandehi\"\n",
    "df.loc[df[\"Raised\"] == \"Biratnagar/Bhojpur\", \"Raised\"] = \"Bhojpur\"\n",
    "df.loc[df[\"Raised\"] == \"Chitwan/Kathmandu\", \"Raised\"] = \"Chitwan\""
   ]
  },
  {
   "cell_type": "code",
   "execution_count": 63,
   "metadata": {},
   "outputs": [
    {
     "data": {
      "text/plain": [
       "Bus        16\n",
       "Walking     7\n",
       "Bike        6\n",
       "Scooty      6\n",
       "Tempo       3\n",
       "Car         2\n",
       "bus         2\n",
       "Scooter     1\n",
       "Name: Transportation, dtype: int64"
      ]
     },
     "execution_count": 63,
     "metadata": {},
     "output_type": "execute_result"
    }
   ],
   "source": [
    "df.Transportation.value_counts()\n"
   ]
  },
  {
   "cell_type": "code",
   "execution_count": 64,
   "metadata": {},
   "outputs": [],
   "source": [
    "df.loc[df.Transportation == \"Walking\", \"Transportation\"] = \"Foot\"\n",
    "df.loc[df.Transportation == \"Bike\", \"Transportation\"] = \"Motorbike\"\n",
    "df.loc[df.Transportation == \"Tempo\", \"Transportation\"] = \"Public\"\n",
    "df.loc[df.Transportation == \"bus\", \"Transportation\"] = \"Public\"\n",
    "df.loc[df.Transportation == \"Bus\", \"Transportation\"] = \"Public\"\n",
    "df.loc[df.Transportation == \"Scooty\", \"Transportation\"] = \"Scooter\"\n",
    "df.Commute = df.Commute.apply(lambda x: x.split(\" \")[0])\n"
   ]
  },
  {
   "cell_type": "code",
   "execution_count": 65,
   "metadata": {},
   "outputs": [],
   "source": [
    "df.Commute = df.Commute.apply(lambda x: x.split(\"m\")[0])\n"
   ]
  },
  {
   "cell_type": "code",
   "execution_count": 66,
   "metadata": {},
   "outputs": [
    {
     "data": {
      "text/plain": [
       "30       7\n",
       "15       6\n",
       "60       6\n",
       "45       5\n",
       "20       4\n",
       "5        3\n",
       "35       3\n",
       "10       2\n",
       "6        1\n",
       "50       1\n",
       "25       1\n",
       "3        1\n",
       "12       1\n",
       "30-40    1\n",
       "40       1\n",
       "Name: Commute, dtype: int64"
      ]
     },
     "execution_count": 66,
     "metadata": {},
     "output_type": "execute_result"
    }
   ],
   "source": [
    "df.Commute.value_counts()\n"
   ]
  },
  {
   "cell_type": "code",
   "execution_count": 67,
   "metadata": {},
   "outputs": [],
   "source": [
    "df.loc[df.Commute == \"30-40\", \"Commute\"] = \"35\"\n"
   ]
  },
  {
   "cell_type": "code",
   "execution_count": 68,
   "metadata": {},
   "outputs": [],
   "source": [
    "df.Commute = df.Commute.astype(\"int64\")\n"
   ]
  },
  {
   "cell_type": "code",
   "execution_count": 69,
   "metadata": {},
   "outputs": [],
   "source": [
    "df.Area = df.Area.apply(lambda x: x.split(\" \")[0])\n"
   ]
  },
  {
   "cell_type": "code",
   "execution_count": 70,
   "metadata": {},
   "outputs": [
    {
     "data": {
      "text/plain": [
       "East          11\n",
       "North-east     9\n",
       "West           7\n",
       "South          7\n",
       "North          5\n",
       "East-North     2\n",
       "North-west     1\n",
       "North-East     1\n",
       "Name: Area, dtype: int64"
      ]
     },
     "execution_count": 70,
     "metadata": {},
     "output_type": "execute_result"
    }
   ],
   "source": [
    "df.Area.value_counts()\n"
   ]
  },
  {
   "cell_type": "code",
   "execution_count": 71,
   "metadata": {},
   "outputs": [],
   "source": [
    "df.loc[df[\"Area\"] == \"East-North\", \"Area\"] = \"North-east\"\n",
    "df.loc[df[\"Area\"] == \"North-East\", \"Area\"] = \"North-east\""
   ]
  },
  {
   "cell_type": "code",
   "execution_count": 72,
   "metadata": {},
   "outputs": [
    {
     "data": {
      "text/html": [
       "<div>\n",
       "<style scoped>\n",
       "    .dataframe tbody tr th:only-of-type {\n",
       "        vertical-align: middle;\n",
       "    }\n",
       "\n",
       "    .dataframe tbody tr th {\n",
       "        vertical-align: top;\n",
       "    }\n",
       "\n",
       "    .dataframe thead th {\n",
       "        text-align: right;\n",
       "    }\n",
       "</style>\n",
       "<table border=\"1\" class=\"dataframe\">\n",
       "  <thead>\n",
       "    <tr style=\"text-align: right;\">\n",
       "      <th></th>\n",
       "      <th>Id</th>\n",
       "      <th>Born</th>\n",
       "      <th>Raised</th>\n",
       "      <th>Residence</th>\n",
       "      <th>Transportation</th>\n",
       "      <th>Commute</th>\n",
       "      <th>Family</th>\n",
       "      <th>Area</th>\n",
       "      <th>Batch</th>\n",
       "    </tr>\n",
       "  </thead>\n",
       "  <tbody>\n",
       "    <tr>\n",
       "      <th>0</th>\n",
       "      <td>1201</td>\n",
       "      <td>Morang</td>\n",
       "      <td>Morang</td>\n",
       "      <td>Maitidevi</td>\n",
       "      <td>Foot</td>\n",
       "      <td>30</td>\n",
       "      <td>4</td>\n",
       "      <td>West</td>\n",
       "      <td>26C</td>\n",
       "    </tr>\n",
       "    <tr>\n",
       "      <th>1</th>\n",
       "      <td>1202</td>\n",
       "      <td>Kathmandu</td>\n",
       "      <td>Kathmandu</td>\n",
       "      <td>Guheshwori</td>\n",
       "      <td>Motorbike</td>\n",
       "      <td>20</td>\n",
       "      <td>5</td>\n",
       "      <td>South</td>\n",
       "      <td>26C</td>\n",
       "    </tr>\n",
       "    <tr>\n",
       "      <th>2</th>\n",
       "      <td>1203</td>\n",
       "      <td>Kathmandu</td>\n",
       "      <td>Kathmandu</td>\n",
       "      <td>Siphal</td>\n",
       "      <td>Foot</td>\n",
       "      <td>5</td>\n",
       "      <td>5</td>\n",
       "      <td>North-east</td>\n",
       "      <td>26C</td>\n",
       "    </tr>\n",
       "    <tr>\n",
       "      <th>3</th>\n",
       "      <td>1204</td>\n",
       "      <td>Kathmandu</td>\n",
       "      <td>Kathmandu</td>\n",
       "      <td>Maitidevi</td>\n",
       "      <td>Scooter</td>\n",
       "      <td>6</td>\n",
       "      <td>6</td>\n",
       "      <td>West</td>\n",
       "      <td>26C</td>\n",
       "    </tr>\n",
       "    <tr>\n",
       "      <th>4</th>\n",
       "      <td>1205</td>\n",
       "      <td>Jhapa</td>\n",
       "      <td>Jhapa</td>\n",
       "      <td>Baneshwor</td>\n",
       "      <td>Scooter</td>\n",
       "      <td>15</td>\n",
       "      <td>5</td>\n",
       "      <td>East</td>\n",
       "      <td>26C</td>\n",
       "    </tr>\n",
       "  </tbody>\n",
       "</table>\n",
       "</div>"
      ],
      "text/plain": [
       "     Id       Born     Raised   Residence Transportation  Commute  Family  \\\n",
       "0  1201     Morang     Morang   Maitidevi           Foot       30       4   \n",
       "1  1202  Kathmandu  Kathmandu  Guheshwori      Motorbike       20       5   \n",
       "2  1203  Kathmandu  Kathmandu      Siphal           Foot        5       5   \n",
       "3  1204  Kathmandu  Kathmandu   Maitidevi        Scooter        6       6   \n",
       "4  1205      Jhapa      Jhapa   Baneshwor        Scooter       15       5   \n",
       "\n",
       "         Area Batch  \n",
       "0        West   26C  \n",
       "1       South   26C  \n",
       "2  North-east   26C  \n",
       "3        West   26C  \n",
       "4        East   26C  "
      ]
     },
     "execution_count": 72,
     "metadata": {},
     "output_type": "execute_result"
    }
   ],
   "source": [
    "df_26C_without_names = df.drop(columns=[\"Name\"])\n",
    "df_26C_without_names[\"Batch\"] = \"26C\"\n",
    "df_26C_without_names.head()"
   ]
  },
  {
   "cell_type": "markdown",
   "metadata": {},
   "source": [
    "# 2026 BCA\n"
   ]
  },
  {
   "cell_type": "code",
   "execution_count": 73,
   "metadata": {},
   "outputs": [
    {
     "data": {
      "text/html": [
       "<div>\n",
       "<style scoped>\n",
       "    .dataframe tbody tr th:only-of-type {\n",
       "        vertical-align: middle;\n",
       "    }\n",
       "\n",
       "    .dataframe tbody tr th {\n",
       "        vertical-align: top;\n",
       "    }\n",
       "\n",
       "    .dataframe thead th {\n",
       "        text-align: right;\n",
       "    }\n",
       "</style>\n",
       "<table border=\"1\" class=\"dataframe\">\n",
       "  <thead>\n",
       "    <tr style=\"text-align: right;\">\n",
       "      <th></th>\n",
       "      <th>No</th>\n",
       "      <th>Id</th>\n",
       "      <th>Born</th>\n",
       "      <th>Raised</th>\n",
       "      <th>Residence</th>\n",
       "      <th>Transportation</th>\n",
       "      <th>Commute</th>\n",
       "      <th>Family</th>\n",
       "      <th>Area</th>\n",
       "    </tr>\n",
       "  </thead>\n",
       "  <tbody>\n",
       "    <tr>\n",
       "      <th>0</th>\n",
       "      <td>Bhargav Bikram Singh Rawal</td>\n",
       "      <td>502</td>\n",
       "      <td>Kathmandu</td>\n",
       "      <td>Kathmandu</td>\n",
       "      <td>baluwatar</td>\n",
       "      <td>bike</td>\n",
       "      <td>25 min</td>\n",
       "      <td>3</td>\n",
       "      <td>North-west KTM</td>\n",
       "    </tr>\n",
       "    <tr>\n",
       "      <th>1</th>\n",
       "      <td>Abhisek Pandey</td>\n",
       "      <td>501</td>\n",
       "      <td>Dang</td>\n",
       "      <td>Kathmandu</td>\n",
       "      <td>baneshwor</td>\n",
       "      <td>walk</td>\n",
       "      <td>20 min</td>\n",
       "      <td>1</td>\n",
       "      <td>East KTM</td>\n",
       "    </tr>\n",
       "    <tr>\n",
       "      <th>2</th>\n",
       "      <td>Phenalin Pant</td>\n",
       "      <td>503</td>\n",
       "      <td>Kathmandu</td>\n",
       "      <td>Kathmandu</td>\n",
       "      <td>kamalpokhari</td>\n",
       "      <td>parents</td>\n",
       "      <td>10 mins</td>\n",
       "      <td>5</td>\n",
       "      <td>South-west KTM</td>\n",
       "    </tr>\n",
       "    <tr>\n",
       "      <th>3</th>\n",
       "      <td>Samapanna Gautam</td>\n",
       "      <td>507</td>\n",
       "      <td>Birgunj</td>\n",
       "      <td>Kathmandu</td>\n",
       "      <td>gaurighat</td>\n",
       "      <td>scooter</td>\n",
       "      <td>10 mins</td>\n",
       "      <td>2</td>\n",
       "      <td>South KTM</td>\n",
       "    </tr>\n",
       "    <tr>\n",
       "      <th>4</th>\n",
       "      <td>Pranjal Siwakoti</td>\n",
       "      <td>505</td>\n",
       "      <td>Kathmandu</td>\n",
       "      <td>Kathmandu</td>\n",
       "      <td>bhaktapur</td>\n",
       "      <td>car</td>\n",
       "      <td>25min</td>\n",
       "      <td>4</td>\n",
       "      <td>North-east KTM</td>\n",
       "    </tr>\n",
       "    <tr>\n",
       "      <th>5</th>\n",
       "      <td>Prakriti Baral</td>\n",
       "      <td>504</td>\n",
       "      <td>Bhairawaha</td>\n",
       "      <td>Kathmandu</td>\n",
       "      <td>dhapasi</td>\n",
       "      <td>scotter</td>\n",
       "      <td>20min</td>\n",
       "      <td>4</td>\n",
       "      <td>North KTM</td>\n",
       "    </tr>\n",
       "    <tr>\n",
       "      <th>6</th>\n",
       "      <td>Ranju Jargha Magar</td>\n",
       "      <td>506</td>\n",
       "      <td>Kathmandu</td>\n",
       "      <td>Kathmandu</td>\n",
       "      <td>tokha,meghacity</td>\n",
       "      <td>bus</td>\n",
       "      <td>1 and half hrs</td>\n",
       "      <td>6</td>\n",
       "      <td>North KTM</td>\n",
       "    </tr>\n",
       "  </tbody>\n",
       "</table>\n",
       "</div>"
      ],
      "text/plain": [
       "                           No   Id        Born     Raised        Residence  \\\n",
       "0  Bhargav Bikram Singh Rawal  502  Kathmandu   Kathmandu        baluwatar   \n",
       "1              Abhisek Pandey  501        Dang  Kathmandu        baneshwor   \n",
       "2               Phenalin Pant  503   Kathmandu  Kathmandu     kamalpokhari   \n",
       "3            Samapanna Gautam  507     Birgunj  Kathmandu        gaurighat   \n",
       "4            Pranjal Siwakoti  505   Kathmandu  Kathmandu        bhaktapur   \n",
       "5              Prakriti Baral  504  Bhairawaha  Kathmandu          dhapasi   \n",
       "6          Ranju Jargha Magar  506   Kathmandu  Kathmandu  tokha,meghacity   \n",
       "\n",
       "  Transportation         Commute  Family            Area  \n",
       "0           bike          25 min       3  North-west KTM  \n",
       "1           walk          20 min       1        East KTM  \n",
       "2        parents         10 mins       5  South-west KTM  \n",
       "3        scooter         10 mins       2       South KTM  \n",
       "4            car           25min       4  North-east KTM  \n",
       "5        scotter           20min       4       North KTM  \n",
       "6            bus  1 and half hrs       6       North KTM  "
      ]
     },
     "execution_count": 73,
     "metadata": {},
     "output_type": "execute_result"
    }
   ],
   "source": [
    "df = df_26B.copy()\n",
    "df\n"
   ]
  },
  {
   "cell_type": "code",
   "execution_count": 74,
   "metadata": {},
   "outputs": [
    {
     "data": {
      "text/html": [
       "<div>\n",
       "<style scoped>\n",
       "    .dataframe tbody tr th:only-of-type {\n",
       "        vertical-align: middle;\n",
       "    }\n",
       "\n",
       "    .dataframe tbody tr th {\n",
       "        vertical-align: top;\n",
       "    }\n",
       "\n",
       "    .dataframe thead th {\n",
       "        text-align: right;\n",
       "    }\n",
       "</style>\n",
       "<table border=\"1\" class=\"dataframe\">\n",
       "  <thead>\n",
       "    <tr style=\"text-align: right;\">\n",
       "      <th></th>\n",
       "      <th>No</th>\n",
       "      <th>Id</th>\n",
       "      <th>Born</th>\n",
       "      <th>Raised</th>\n",
       "      <th>Residence</th>\n",
       "      <th>Transportation</th>\n",
       "      <th>Commute</th>\n",
       "      <th>Family</th>\n",
       "      <th>Area</th>\n",
       "    </tr>\n",
       "  </thead>\n",
       "  <tbody>\n",
       "    <tr>\n",
       "      <th>1</th>\n",
       "      <td>Abhisek Pandey</td>\n",
       "      <td>501</td>\n",
       "      <td>Dang</td>\n",
       "      <td>Kathmandu</td>\n",
       "      <td>baneshwor</td>\n",
       "      <td>walk</td>\n",
       "      <td>20 min</td>\n",
       "      <td>1</td>\n",
       "      <td>East KTM</td>\n",
       "    </tr>\n",
       "    <tr>\n",
       "      <th>0</th>\n",
       "      <td>Bhargav Bikram Singh Rawal</td>\n",
       "      <td>502</td>\n",
       "      <td>Kathmandu</td>\n",
       "      <td>Kathmandu</td>\n",
       "      <td>baluwatar</td>\n",
       "      <td>bike</td>\n",
       "      <td>25 min</td>\n",
       "      <td>3</td>\n",
       "      <td>North-west KTM</td>\n",
       "    </tr>\n",
       "    <tr>\n",
       "      <th>2</th>\n",
       "      <td>Phenalin Pant</td>\n",
       "      <td>503</td>\n",
       "      <td>Kathmandu</td>\n",
       "      <td>Kathmandu</td>\n",
       "      <td>kamalpokhari</td>\n",
       "      <td>parents</td>\n",
       "      <td>10 mins</td>\n",
       "      <td>5</td>\n",
       "      <td>South-west KTM</td>\n",
       "    </tr>\n",
       "    <tr>\n",
       "      <th>5</th>\n",
       "      <td>Prakriti Baral</td>\n",
       "      <td>504</td>\n",
       "      <td>Bhairawaha</td>\n",
       "      <td>Kathmandu</td>\n",
       "      <td>dhapasi</td>\n",
       "      <td>scotter</td>\n",
       "      <td>20min</td>\n",
       "      <td>4</td>\n",
       "      <td>North KTM</td>\n",
       "    </tr>\n",
       "    <tr>\n",
       "      <th>4</th>\n",
       "      <td>Pranjal Siwakoti</td>\n",
       "      <td>505</td>\n",
       "      <td>Kathmandu</td>\n",
       "      <td>Kathmandu</td>\n",
       "      <td>bhaktapur</td>\n",
       "      <td>car</td>\n",
       "      <td>25min</td>\n",
       "      <td>4</td>\n",
       "      <td>North-east KTM</td>\n",
       "    </tr>\n",
       "    <tr>\n",
       "      <th>6</th>\n",
       "      <td>Ranju Jargha Magar</td>\n",
       "      <td>506</td>\n",
       "      <td>Kathmandu</td>\n",
       "      <td>Kathmandu</td>\n",
       "      <td>tokha,meghacity</td>\n",
       "      <td>bus</td>\n",
       "      <td>1 and half hrs</td>\n",
       "      <td>6</td>\n",
       "      <td>North KTM</td>\n",
       "    </tr>\n",
       "    <tr>\n",
       "      <th>3</th>\n",
       "      <td>Samapanna Gautam</td>\n",
       "      <td>507</td>\n",
       "      <td>Birgunj</td>\n",
       "      <td>Kathmandu</td>\n",
       "      <td>gaurighat</td>\n",
       "      <td>scooter</td>\n",
       "      <td>10 mins</td>\n",
       "      <td>2</td>\n",
       "      <td>South KTM</td>\n",
       "    </tr>\n",
       "  </tbody>\n",
       "</table>\n",
       "</div>"
      ],
      "text/plain": [
       "                           No   Id        Born     Raised        Residence  \\\n",
       "1              Abhisek Pandey  501        Dang  Kathmandu        baneshwor   \n",
       "0  Bhargav Bikram Singh Rawal  502  Kathmandu   Kathmandu        baluwatar   \n",
       "2               Phenalin Pant  503   Kathmandu  Kathmandu     kamalpokhari   \n",
       "5              Prakriti Baral  504  Bhairawaha  Kathmandu          dhapasi   \n",
       "4            Pranjal Siwakoti  505   Kathmandu  Kathmandu        bhaktapur   \n",
       "6          Ranju Jargha Magar  506   Kathmandu  Kathmandu  tokha,meghacity   \n",
       "3            Samapanna Gautam  507     Birgunj  Kathmandu        gaurighat   \n",
       "\n",
       "  Transportation         Commute  Family            Area  \n",
       "1           walk          20 min       1        East KTM  \n",
       "0           bike          25 min       3  North-west KTM  \n",
       "2        parents         10 mins       5  South-west KTM  \n",
       "5        scotter           20min       4       North KTM  \n",
       "4            car           25min       4  North-east KTM  \n",
       "6            bus  1 and half hrs       6       North KTM  \n",
       "3        scooter         10 mins       2       South KTM  "
      ]
     },
     "execution_count": 74,
     "metadata": {},
     "output_type": "execute_result"
    }
   ],
   "source": [
    "df.sort_values(by=[\"Id\"], inplace=True)\n",
    "df"
   ]
  },
  {
   "cell_type": "code",
   "execution_count": 75,
   "metadata": {},
   "outputs": [],
   "source": [
    "df.rename(columns={\"No\": \"Name\"}, inplace=True)"
   ]
  },
  {
   "cell_type": "code",
   "execution_count": 76,
   "metadata": {},
   "outputs": [
    {
     "data": {
      "text/plain": [
       "baneshwor          1\n",
       "baluwatar          1\n",
       "kamalpokhari       1\n",
       "dhapasi            1\n",
       "bhaktapur          1\n",
       "tokha,meghacity    1\n",
       "gaurighat          1\n",
       "Name: Residence, dtype: int64"
      ]
     },
     "execution_count": 76,
     "metadata": {},
     "output_type": "execute_result"
    }
   ],
   "source": [
    "df.Born.value_counts()\n",
    "df.Raised.value_counts()\n",
    "df.Residence.value_counts()\n"
   ]
  },
  {
   "cell_type": "code",
   "execution_count": 77,
   "metadata": {},
   "outputs": [],
   "source": [
    "df.Born = df.Born.apply(lambda x: x.split(\" \")[0])\n"
   ]
  },
  {
   "cell_type": "code",
   "execution_count": 78,
   "metadata": {},
   "outputs": [],
   "source": [
    "df.loc[df.Born == \"Bhairawaha\", \"Born\"] = \"Rupandehi\"\n",
    "df.loc[df.Residence == \"tokha,meghacity\", \"Residence\"] = \"Tokha\"\n",
    "df.Residence = df.Residence.apply(lambda x: x.capitalize())"
   ]
  },
  {
   "cell_type": "code",
   "execution_count": 79,
   "metadata": {},
   "outputs": [
    {
     "data": {
      "text/plain": [
       "walk       1\n",
       "bike       1\n",
       "parents    1\n",
       "scotter    1\n",
       "car        1\n",
       "bus        1\n",
       "scooter    1\n",
       "Name: Transportation, dtype: int64"
      ]
     },
     "execution_count": 79,
     "metadata": {},
     "output_type": "execute_result"
    }
   ],
   "source": [
    "df.Transportation.value_counts()\n"
   ]
  },
  {
   "cell_type": "code",
   "execution_count": 80,
   "metadata": {},
   "outputs": [],
   "source": [
    "df.loc[df.Transportation == \"parents\", \"Transportation\"] = \"Car\"\n",
    "df.loc[df.Transportation == \"scotter\", \"Transportation\"] = \"Scooter\"\n",
    "df.loc[df.Transportation == \"walk\", \"Transportation\"] = \"Foot\"\n",
    "df.loc[df.Transportation == \"bus\", \"Transportation\"] = \"public\"\n",
    "df.Transportation = df.Transportation.apply(lambda x: x.capitalize())\n"
   ]
  },
  {
   "cell_type": "code",
   "execution_count": 81,
   "metadata": {},
   "outputs": [
    {
     "data": {
      "text/plain": [
       "1            20 min\n",
       "0            25 min\n",
       "2           10 mins\n",
       "5             20min\n",
       "4             25min\n",
       "6    1 and half hrs\n",
       "3           10 mins\n",
       "Name: Commute, dtype: object"
      ]
     },
     "execution_count": 81,
     "metadata": {},
     "output_type": "execute_result"
    }
   ],
   "source": [
    "df.Commute\n"
   ]
  },
  {
   "cell_type": "code",
   "execution_count": 82,
   "metadata": {},
   "outputs": [],
   "source": [
    "df.loc[df.Commute == \"1 and half hrs\", \"Commute\"] = \"90\""
   ]
  },
  {
   "cell_type": "code",
   "execution_count": 83,
   "metadata": {},
   "outputs": [],
   "source": [
    "df.Commute = df.Commute.apply(lambda x: x.split(\" \")[0])\n",
    "df.Commute = df.Commute.apply(lambda x: x.split(\"m\")[0])\n",
    "df.Commute = df.Commute.astype(\"int64\")"
   ]
  },
  {
   "cell_type": "code",
   "execution_count": 84,
   "metadata": {},
   "outputs": [],
   "source": [
    "df.Area = df.Area.apply(lambda x: x.split(\" \")[0])\n"
   ]
  },
  {
   "cell_type": "code",
   "execution_count": 85,
   "metadata": {},
   "outputs": [
    {
     "data": {
      "text/plain": [
       "North         2\n",
       "East          1\n",
       "North-west    1\n",
       "South-west    1\n",
       "North-east    1\n",
       "South         1\n",
       "Name: Area, dtype: int64"
      ]
     },
     "execution_count": 85,
     "metadata": {},
     "output_type": "execute_result"
    }
   ],
   "source": [
    "df.Area.value_counts()\n"
   ]
  },
  {
   "cell_type": "code",
   "execution_count": 86,
   "metadata": {},
   "outputs": [
    {
     "data": {
      "text/html": [
       "<div>\n",
       "<style scoped>\n",
       "    .dataframe tbody tr th:only-of-type {\n",
       "        vertical-align: middle;\n",
       "    }\n",
       "\n",
       "    .dataframe tbody tr th {\n",
       "        vertical-align: top;\n",
       "    }\n",
       "\n",
       "    .dataframe thead th {\n",
       "        text-align: right;\n",
       "    }\n",
       "</style>\n",
       "<table border=\"1\" class=\"dataframe\">\n",
       "  <thead>\n",
       "    <tr style=\"text-align: right;\">\n",
       "      <th></th>\n",
       "      <th>Id</th>\n",
       "      <th>Born</th>\n",
       "      <th>Raised</th>\n",
       "      <th>Residence</th>\n",
       "      <th>Transportation</th>\n",
       "      <th>Commute</th>\n",
       "      <th>Family</th>\n",
       "      <th>Area</th>\n",
       "      <th>Batch</th>\n",
       "    </tr>\n",
       "  </thead>\n",
       "  <tbody>\n",
       "    <tr>\n",
       "      <th>1</th>\n",
       "      <td>501</td>\n",
       "      <td>Dang</td>\n",
       "      <td>Kathmandu</td>\n",
       "      <td>Baneshwor</td>\n",
       "      <td>Foot</td>\n",
       "      <td>20</td>\n",
       "      <td>1</td>\n",
       "      <td>East</td>\n",
       "      <td>26B</td>\n",
       "    </tr>\n",
       "    <tr>\n",
       "      <th>0</th>\n",
       "      <td>502</td>\n",
       "      <td>Kathmandu</td>\n",
       "      <td>Kathmandu</td>\n",
       "      <td>Baluwatar</td>\n",
       "      <td>Bike</td>\n",
       "      <td>25</td>\n",
       "      <td>3</td>\n",
       "      <td>North-west</td>\n",
       "      <td>26B</td>\n",
       "    </tr>\n",
       "    <tr>\n",
       "      <th>2</th>\n",
       "      <td>503</td>\n",
       "      <td>Kathmandu</td>\n",
       "      <td>Kathmandu</td>\n",
       "      <td>Kamalpokhari</td>\n",
       "      <td>Car</td>\n",
       "      <td>10</td>\n",
       "      <td>5</td>\n",
       "      <td>South-west</td>\n",
       "      <td>26B</td>\n",
       "    </tr>\n",
       "    <tr>\n",
       "      <th>5</th>\n",
       "      <td>504</td>\n",
       "      <td>Rupandehi</td>\n",
       "      <td>Kathmandu</td>\n",
       "      <td>Dhapasi</td>\n",
       "      <td>Scooter</td>\n",
       "      <td>20</td>\n",
       "      <td>4</td>\n",
       "      <td>North</td>\n",
       "      <td>26B</td>\n",
       "    </tr>\n",
       "    <tr>\n",
       "      <th>4</th>\n",
       "      <td>505</td>\n",
       "      <td>Kathmandu</td>\n",
       "      <td>Kathmandu</td>\n",
       "      <td>Bhaktapur</td>\n",
       "      <td>Car</td>\n",
       "      <td>25</td>\n",
       "      <td>4</td>\n",
       "      <td>North-east</td>\n",
       "      <td>26B</td>\n",
       "    </tr>\n",
       "  </tbody>\n",
       "</table>\n",
       "</div>"
      ],
      "text/plain": [
       "    Id       Born     Raised     Residence Transportation  Commute  Family  \\\n",
       "1  501       Dang  Kathmandu     Baneshwor           Foot       20       1   \n",
       "0  502  Kathmandu  Kathmandu     Baluwatar           Bike       25       3   \n",
       "2  503  Kathmandu  Kathmandu  Kamalpokhari            Car       10       5   \n",
       "5  504  Rupandehi  Kathmandu       Dhapasi        Scooter       20       4   \n",
       "4  505  Kathmandu  Kathmandu     Bhaktapur            Car       25       4   \n",
       "\n",
       "         Area Batch  \n",
       "1        East   26B  \n",
       "0  North-west   26B  \n",
       "2  South-west   26B  \n",
       "5       North   26B  \n",
       "4  North-east   26B  "
      ]
     },
     "execution_count": 86,
     "metadata": {},
     "output_type": "execute_result"
    }
   ],
   "source": [
    "df_26B_without_names = df.drop(columns=[\"Name\"])\n",
    "df_26B_without_names[\"Batch\"] = \"26B\"\n",
    "df_26B_without_names.head()"
   ]
  },
  {
   "cell_type": "code",
   "execution_count": 87,
   "metadata": {},
   "outputs": [],
   "source": [
    "ultimate_df = pd.concat(\n",
    "    [\n",
    "        df_24C_without_names,\n",
    "        df_25C_without_names,\n",
    "        df_25B_without_names,\n",
    "        df_26B_without_names,\n",
    "        df_26C_without_names,\n",
    "    ]\n",
    ")"
   ]
  },
  {
   "cell_type": "code",
   "execution_count": 88,
   "metadata": {},
   "outputs": [
    {
     "data": {
      "text/html": [
       "<div>\n",
       "<style scoped>\n",
       "    .dataframe tbody tr th:only-of-type {\n",
       "        vertical-align: middle;\n",
       "    }\n",
       "\n",
       "    .dataframe tbody tr th {\n",
       "        vertical-align: top;\n",
       "    }\n",
       "\n",
       "    .dataframe thead th {\n",
       "        text-align: right;\n",
       "    }\n",
       "</style>\n",
       "<table border=\"1\" class=\"dataframe\">\n",
       "  <thead>\n",
       "    <tr style=\"text-align: right;\">\n",
       "      <th></th>\n",
       "      <th>Id</th>\n",
       "      <th>Born</th>\n",
       "      <th>Raised</th>\n",
       "      <th>Residence</th>\n",
       "      <th>Transportation</th>\n",
       "      <th>Commute</th>\n",
       "      <th>Family</th>\n",
       "      <th>Area</th>\n",
       "      <th>Batch</th>\n",
       "    </tr>\n",
       "  </thead>\n",
       "  <tbody>\n",
       "    <tr>\n",
       "      <th>1</th>\n",
       "      <td>402</td>\n",
       "      <td>Kathmandu</td>\n",
       "      <td>Kathmandu</td>\n",
       "      <td>Chabahil</td>\n",
       "      <td>Foot</td>\n",
       "      <td>25</td>\n",
       "      <td>3</td>\n",
       "      <td>North-east</td>\n",
       "      <td>25B</td>\n",
       "    </tr>\n",
       "    <tr>\n",
       "      <th>5</th>\n",
       "      <td>412</td>\n",
       "      <td>Biratnagar</td>\n",
       "      <td>Biratnagar</td>\n",
       "      <td>kalo pul</td>\n",
       "      <td>Foot</td>\n",
       "      <td>5</td>\n",
       "      <td>4</td>\n",
       "      <td>West</td>\n",
       "      <td>25B</td>\n",
       "    </tr>\n",
       "    <tr>\n",
       "      <th>4</th>\n",
       "      <td>413</td>\n",
       "      <td>Kathmandu</td>\n",
       "      <td>Kathmandu</td>\n",
       "      <td>Narayantaar</td>\n",
       "      <td>Scooter</td>\n",
       "      <td>25</td>\n",
       "      <td>5</td>\n",
       "      <td>North</td>\n",
       "      <td>25B</td>\n",
       "    </tr>\n",
       "    <tr>\n",
       "      <th>2</th>\n",
       "      <td>416</td>\n",
       "      <td>Kathmandu</td>\n",
       "      <td>Kathmandu</td>\n",
       "      <td>Baneshwor</td>\n",
       "      <td>Scooter</td>\n",
       "      <td>10</td>\n",
       "      <td>8</td>\n",
       "      <td>East</td>\n",
       "      <td>25B</td>\n",
       "    </tr>\n",
       "    <tr>\n",
       "      <th>3</th>\n",
       "      <td>417</td>\n",
       "      <td>Lalitpur</td>\n",
       "      <td>Lalitpur</td>\n",
       "      <td>Godawari</td>\n",
       "      <td>Scooter</td>\n",
       "      <td>40</td>\n",
       "      <td>5</td>\n",
       "      <td>South</td>\n",
       "      <td>25B</td>\n",
       "    </tr>\n",
       "    <tr>\n",
       "      <th>...</th>\n",
       "      <td>...</td>\n",
       "      <td>...</td>\n",
       "      <td>...</td>\n",
       "      <td>...</td>\n",
       "      <td>...</td>\n",
       "      <td>...</td>\n",
       "      <td>...</td>\n",
       "      <td>...</td>\n",
       "      <td>...</td>\n",
       "    </tr>\n",
       "    <tr>\n",
       "      <th>39</th>\n",
       "      <td>1240</td>\n",
       "      <td>Kaski</td>\n",
       "      <td>baden wuertemberg</td>\n",
       "      <td>kapan</td>\n",
       "      <td>Public</td>\n",
       "      <td>35</td>\n",
       "      <td>5</td>\n",
       "      <td>North-east</td>\n",
       "      <td>26C</td>\n",
       "    </tr>\n",
       "    <tr>\n",
       "      <th>40</th>\n",
       "      <td>1241</td>\n",
       "      <td>Lalitpur</td>\n",
       "      <td>Lalitpur</td>\n",
       "      <td>Jawlakhel</td>\n",
       "      <td>Scooter</td>\n",
       "      <td>40</td>\n",
       "      <td>5</td>\n",
       "      <td>South</td>\n",
       "      <td>26C</td>\n",
       "    </tr>\n",
       "    <tr>\n",
       "      <th>41</th>\n",
       "      <td>1242</td>\n",
       "      <td>Illam</td>\n",
       "      <td>Illam</td>\n",
       "      <td>Thimi</td>\n",
       "      <td>Public</td>\n",
       "      <td>60</td>\n",
       "      <td>4</td>\n",
       "      <td>East</td>\n",
       "      <td>26C</td>\n",
       "    </tr>\n",
       "    <tr>\n",
       "      <th>42</th>\n",
       "      <td>1243</td>\n",
       "      <td>Lalitpur</td>\n",
       "      <td>Lalitpur</td>\n",
       "      <td>Nakhipot</td>\n",
       "      <td>Public</td>\n",
       "      <td>35</td>\n",
       "      <td>6</td>\n",
       "      <td>South</td>\n",
       "      <td>26C</td>\n",
       "    </tr>\n",
       "    <tr>\n",
       "      <th>17</th>\n",
       "      <td>1244</td>\n",
       "      <td>Lalitpur</td>\n",
       "      <td>Kathmandu</td>\n",
       "      <td>Kalanki</td>\n",
       "      <td>Public</td>\n",
       "      <td>60</td>\n",
       "      <td>3</td>\n",
       "      <td>West</td>\n",
       "      <td>26C</td>\n",
       "    </tr>\n",
       "  </tbody>\n",
       "</table>\n",
       "<p>133 rows × 9 columns</p>\n",
       "</div>"
      ],
      "text/plain": [
       "      Id        Born             Raised    Residence Transportation  Commute  \\\n",
       "1    402   Kathmandu          Kathmandu     Chabahil           Foot       25   \n",
       "5    412  Biratnagar         Biratnagar     kalo pul           Foot        5   \n",
       "4    413   Kathmandu          Kathmandu  Narayantaar        Scooter       25   \n",
       "2    416   Kathmandu          Kathmandu    Baneshwor        Scooter       10   \n",
       "3    417    Lalitpur           Lalitpur     Godawari        Scooter       40   \n",
       "..   ...         ...                ...          ...            ...      ...   \n",
       "39  1240       Kaski  baden wuertemberg        kapan         Public       35   \n",
       "40  1241    Lalitpur           Lalitpur    Jawlakhel        Scooter       40   \n",
       "41  1242       Illam              Illam        Thimi         Public       60   \n",
       "42  1243    Lalitpur           Lalitpur     Nakhipot         Public       35   \n",
       "17  1244    Lalitpur          Kathmandu      Kalanki         Public       60   \n",
       "\n",
       "    Family        Area Batch  \n",
       "1        3  North-east   25B  \n",
       "5        4        West   25B  \n",
       "4        5       North   25B  \n",
       "2        8        East   25B  \n",
       "3        5       South   25B  \n",
       "..     ...         ...   ...  \n",
       "39       5  North-east   26C  \n",
       "40       5       South   26C  \n",
       "41       4        East   26C  \n",
       "42       6       South   26C  \n",
       "17       3        West   26C  \n",
       "\n",
       "[133 rows x 9 columns]"
      ]
     },
     "execution_count": 88,
     "metadata": {},
     "output_type": "execute_result"
    }
   ],
   "source": [
    "ultimate_df.sort_values(by=\"Id\", inplace=True)\n",
    "ultimate_df"
   ]
  },
  {
   "cell_type": "code",
   "execution_count": 89,
   "metadata": {},
   "outputs": [],
   "source": [
    "df = ultimate_df.copy()"
   ]
  },
  {
   "cell_type": "code",
   "execution_count": 90,
   "metadata": {},
   "outputs": [
    {
     "data": {
      "text/plain": [
       "Bhaktapur          2\n",
       "Biratnagar         2\n",
       "Birgunj            1\n",
       "Chitwan            7\n",
       "Dang               1\n",
       "Dhading            1\n",
       "Illam              1\n",
       "Jhapa              6\n",
       "Kanchanpur         1\n",
       "Kaski              3\n",
       "Kathmandu         65\n",
       "Kavre              1\n",
       "Lalitpur          19\n",
       "Mahottari          1\n",
       "Makwanpur          1\n",
       "Merut, India       1\n",
       "Morang             5\n",
       "Pokhara            1\n",
       "Rupandehi          4\n",
       "Sindhuli           2\n",
       "Sindhupalchowk     1\n",
       "Sunsari            7\n",
       "Name: Born, dtype: int64"
      ]
     },
     "execution_count": 90,
     "metadata": {},
     "output_type": "execute_result"
    }
   ],
   "source": [
    "df.Born.value_counts().sort_index()"
   ]
  },
  {
   "cell_type": "code",
   "execution_count": 91,
   "metadata": {},
   "outputs": [
    {
     "data": {
      "text/plain": [
       "Bhaktapur             7\n",
       "Bhojpur               1\n",
       "Biratnagar            2\n",
       "Chitwan               5\n",
       "Dharan                1\n",
       "Illam                 1\n",
       "Jhapa                 4\n",
       "Kanchanpur            1\n",
       "Kaski                 2\n",
       "Kathmandu            86\n",
       "Lalitpur             12\n",
       "Makwanpur             1\n",
       "Morang                3\n",
       "Rupandehi             3\n",
       "Sunsari               3\n",
       "baden wuertemberg     1\n",
       "Name: Raised, dtype: int64"
      ]
     },
     "execution_count": 91,
     "metadata": {},
     "output_type": "execute_result"
    }
   ],
   "source": [
    "df.Raised.value_counts().sort_index()"
   ]
  },
  {
   "cell_type": "code",
   "execution_count": 92,
   "metadata": {},
   "outputs": [
    {
     "data": {
      "text/plain": [
       "Bike          1\n",
       "Car           6\n",
       "Cycle         2\n",
       "Foot         24\n",
       "Motorbike    25\n",
       "Public       42\n",
       "Scooter      33\n",
       "Name: Transportation, dtype: int64"
      ]
     },
     "execution_count": 92,
     "metadata": {},
     "output_type": "execute_result"
    }
   ],
   "source": [
    "df.Transportation.value_counts().sort_index()"
   ]
  },
  {
   "cell_type": "code",
   "execution_count": 93,
   "metadata": {},
   "outputs": [],
   "source": [
    "df.loc[df.Transportation=='Bike', \"Transportation\"] = \"Motorbike\""
   ]
  },
  {
   "cell_type": "code",
   "execution_count": 94,
   "metadata": {},
   "outputs": [
    {
     "data": {
      "text/plain": [
       "Transportation\n",
       "Car          25.8\n",
       "Cycle        14.0\n",
       "Foot         13.0\n",
       "Motorbike    18.2\n",
       "Public       41.0\n",
       "Scooter      21.3\n",
       "Name: Commute, dtype: float64"
      ]
     },
     "execution_count": 94,
     "metadata": {},
     "output_type": "execute_result"
    }
   ],
   "source": [
    "df.groupby(\"Transportation\")['Commute'].mean().round(1)"
   ]
  },
  {
   "cell_type": "code",
   "execution_count": 95,
   "metadata": {},
   "outputs": [
    {
     "data": {
      "text/plain": [
       "East          29\n",
       "North         23\n",
       "North-east    29\n",
       "North-west    11\n",
       "South         19\n",
       "South-West     1\n",
       "South-west     1\n",
       "West          20\n",
       "Name: Area, dtype: int64"
      ]
     },
     "execution_count": 95,
     "metadata": {},
     "output_type": "execute_result"
    }
   ],
   "source": [
    "df.Area.value_counts().sort_index()"
   ]
  },
  {
   "cell_type": "code",
   "execution_count": 96,
   "metadata": {},
   "outputs": [],
   "source": [
    "def split_and_join(x):\n",
    "    temp = x.split(\"-\")\n",
    "    if len(temp)>1:\n",
    "        temp[0] = temp[0].capitalize()\n",
    "        temp[1] = temp[1].capitalize()\n",
    "        return \" \".join(temp)\n",
    "    else:\n",
    "        return temp[0].capitalize()"
   ]
  },
  {
   "cell_type": "code",
   "execution_count": 97,
   "metadata": {},
   "outputs": [],
   "source": [
    "df.Area = df.Area.apply(split_and_join)"
   ]
  },
  {
   "cell_type": "code",
   "execution_count": 98,
   "metadata": {},
   "outputs": [
    {
     "ename": "KeyError",
     "evalue": "\"['level_0'] not found in axis\"",
     "output_type": "error",
     "traceback": [
      "\u001b[1;31m---------------------------------------------------------------------------\u001b[0m",
      "\u001b[1;31mKeyError\u001b[0m                                  Traceback (most recent call last)",
      "Cell \u001b[1;32mIn[98], line 3\u001b[0m\n\u001b[0;32m      1\u001b[0m df\u001b[39m.\u001b[39mArea\u001b[39m.\u001b[39mvalue_counts()\u001b[39m.\u001b[39msort_index()\n\u001b[0;32m      2\u001b[0m df\u001b[39m.\u001b[39mreset_index(inplace\u001b[39m=\u001b[39m\u001b[39mTrue\u001b[39;00m)\n\u001b[1;32m----> 3\u001b[0m df\u001b[39m.\u001b[39;49mdrop(columns\u001b[39m=\u001b[39;49m[\u001b[39m'\u001b[39;49m\u001b[39mlevel_0\u001b[39;49m\u001b[39m'\u001b[39;49m,\u001b[39m'\u001b[39;49m\u001b[39mindex\u001b[39;49m\u001b[39m'\u001b[39;49m], inplace\u001b[39m=\u001b[39;49m\u001b[39mTrue\u001b[39;49;00m)\n\u001b[0;32m      4\u001b[0m df\u001b[39m.\u001b[39mhead()\n",
      "File \u001b[1;32mc:\\Users\\user\\AppData\\Local\\Programs\\Python\\Python311\\Lib\\site-packages\\pandas\\util\\_decorators.py:331\u001b[0m, in \u001b[0;36mdeprecate_nonkeyword_arguments.<locals>.decorate.<locals>.wrapper\u001b[1;34m(*args, **kwargs)\u001b[0m\n\u001b[0;32m    325\u001b[0m \u001b[39mif\u001b[39;00m \u001b[39mlen\u001b[39m(args) \u001b[39m>\u001b[39m num_allow_args:\n\u001b[0;32m    326\u001b[0m     warnings\u001b[39m.\u001b[39mwarn(\n\u001b[0;32m    327\u001b[0m         msg\u001b[39m.\u001b[39mformat(arguments\u001b[39m=\u001b[39m_format_argument_list(allow_args)),\n\u001b[0;32m    328\u001b[0m         \u001b[39mFutureWarning\u001b[39;00m,\n\u001b[0;32m    329\u001b[0m         stacklevel\u001b[39m=\u001b[39mfind_stack_level(),\n\u001b[0;32m    330\u001b[0m     )\n\u001b[1;32m--> 331\u001b[0m \u001b[39mreturn\u001b[39;00m func(\u001b[39m*\u001b[39;49margs, \u001b[39m*\u001b[39;49m\u001b[39m*\u001b[39;49mkwargs)\n",
      "File \u001b[1;32mc:\\Users\\user\\AppData\\Local\\Programs\\Python\\Python311\\Lib\\site-packages\\pandas\\core\\frame.py:5399\u001b[0m, in \u001b[0;36mDataFrame.drop\u001b[1;34m(self, labels, axis, index, columns, level, inplace, errors)\u001b[0m\n\u001b[0;32m   5251\u001b[0m \u001b[39m@deprecate_nonkeyword_arguments\u001b[39m(version\u001b[39m=\u001b[39m\u001b[39mNone\u001b[39;00m, allowed_args\u001b[39m=\u001b[39m[\u001b[39m\"\u001b[39m\u001b[39mself\u001b[39m\u001b[39m\"\u001b[39m, \u001b[39m\"\u001b[39m\u001b[39mlabels\u001b[39m\u001b[39m\"\u001b[39m])\n\u001b[0;32m   5252\u001b[0m \u001b[39mdef\u001b[39;00m \u001b[39mdrop\u001b[39m(  \u001b[39m# type: ignore[override]\u001b[39;00m\n\u001b[0;32m   5253\u001b[0m     \u001b[39mself\u001b[39m,\n\u001b[1;32m   (...)\u001b[0m\n\u001b[0;32m   5260\u001b[0m     errors: IgnoreRaise \u001b[39m=\u001b[39m \u001b[39m\"\u001b[39m\u001b[39mraise\u001b[39m\u001b[39m\"\u001b[39m,\n\u001b[0;32m   5261\u001b[0m ) \u001b[39m-\u001b[39m\u001b[39m>\u001b[39m DataFrame \u001b[39m|\u001b[39m \u001b[39mNone\u001b[39;00m:\n\u001b[0;32m   5262\u001b[0m \u001b[39m    \u001b[39m\u001b[39m\"\"\"\u001b[39;00m\n\u001b[0;32m   5263\u001b[0m \u001b[39m    Drop specified labels from rows or columns.\u001b[39;00m\n\u001b[0;32m   5264\u001b[0m \n\u001b[1;32m   (...)\u001b[0m\n\u001b[0;32m   5397\u001b[0m \u001b[39m            weight  1.0     0.8\u001b[39;00m\n\u001b[0;32m   5398\u001b[0m \u001b[39m    \"\"\"\u001b[39;00m\n\u001b[1;32m-> 5399\u001b[0m     \u001b[39mreturn\u001b[39;00m \u001b[39msuper\u001b[39;49m()\u001b[39m.\u001b[39;49mdrop(\n\u001b[0;32m   5400\u001b[0m         labels\u001b[39m=\u001b[39;49mlabels,\n\u001b[0;32m   5401\u001b[0m         axis\u001b[39m=\u001b[39;49maxis,\n\u001b[0;32m   5402\u001b[0m         index\u001b[39m=\u001b[39;49mindex,\n\u001b[0;32m   5403\u001b[0m         columns\u001b[39m=\u001b[39;49mcolumns,\n\u001b[0;32m   5404\u001b[0m         level\u001b[39m=\u001b[39;49mlevel,\n\u001b[0;32m   5405\u001b[0m         inplace\u001b[39m=\u001b[39;49minplace,\n\u001b[0;32m   5406\u001b[0m         errors\u001b[39m=\u001b[39;49merrors,\n\u001b[0;32m   5407\u001b[0m     )\n",
      "File \u001b[1;32mc:\\Users\\user\\AppData\\Local\\Programs\\Python\\Python311\\Lib\\site-packages\\pandas\\util\\_decorators.py:331\u001b[0m, in \u001b[0;36mdeprecate_nonkeyword_arguments.<locals>.decorate.<locals>.wrapper\u001b[1;34m(*args, **kwargs)\u001b[0m\n\u001b[0;32m    325\u001b[0m \u001b[39mif\u001b[39;00m \u001b[39mlen\u001b[39m(args) \u001b[39m>\u001b[39m num_allow_args:\n\u001b[0;32m    326\u001b[0m     warnings\u001b[39m.\u001b[39mwarn(\n\u001b[0;32m    327\u001b[0m         msg\u001b[39m.\u001b[39mformat(arguments\u001b[39m=\u001b[39m_format_argument_list(allow_args)),\n\u001b[0;32m    328\u001b[0m         \u001b[39mFutureWarning\u001b[39;00m,\n\u001b[0;32m    329\u001b[0m         stacklevel\u001b[39m=\u001b[39mfind_stack_level(),\n\u001b[0;32m    330\u001b[0m     )\n\u001b[1;32m--> 331\u001b[0m \u001b[39mreturn\u001b[39;00m func(\u001b[39m*\u001b[39;49margs, \u001b[39m*\u001b[39;49m\u001b[39m*\u001b[39;49mkwargs)\n",
      "File \u001b[1;32mc:\\Users\\user\\AppData\\Local\\Programs\\Python\\Python311\\Lib\\site-packages\\pandas\\core\\generic.py:4505\u001b[0m, in \u001b[0;36mNDFrame.drop\u001b[1;34m(self, labels, axis, index, columns, level, inplace, errors)\u001b[0m\n\u001b[0;32m   4503\u001b[0m \u001b[39mfor\u001b[39;00m axis, labels \u001b[39min\u001b[39;00m axes\u001b[39m.\u001b[39mitems():\n\u001b[0;32m   4504\u001b[0m     \u001b[39mif\u001b[39;00m labels \u001b[39mis\u001b[39;00m \u001b[39mnot\u001b[39;00m \u001b[39mNone\u001b[39;00m:\n\u001b[1;32m-> 4505\u001b[0m         obj \u001b[39m=\u001b[39m obj\u001b[39m.\u001b[39;49m_drop_axis(labels, axis, level\u001b[39m=\u001b[39;49mlevel, errors\u001b[39m=\u001b[39;49merrors)\n\u001b[0;32m   4507\u001b[0m \u001b[39mif\u001b[39;00m inplace:\n\u001b[0;32m   4508\u001b[0m     \u001b[39mself\u001b[39m\u001b[39m.\u001b[39m_update_inplace(obj)\n",
      "File \u001b[1;32mc:\\Users\\user\\AppData\\Local\\Programs\\Python\\Python311\\Lib\\site-packages\\pandas\\core\\generic.py:4546\u001b[0m, in \u001b[0;36mNDFrame._drop_axis\u001b[1;34m(self, labels, axis, level, errors, only_slice)\u001b[0m\n\u001b[0;32m   4544\u001b[0m         new_axis \u001b[39m=\u001b[39m axis\u001b[39m.\u001b[39mdrop(labels, level\u001b[39m=\u001b[39mlevel, errors\u001b[39m=\u001b[39merrors)\n\u001b[0;32m   4545\u001b[0m     \u001b[39melse\u001b[39;00m:\n\u001b[1;32m-> 4546\u001b[0m         new_axis \u001b[39m=\u001b[39m axis\u001b[39m.\u001b[39;49mdrop(labels, errors\u001b[39m=\u001b[39;49merrors)\n\u001b[0;32m   4547\u001b[0m     indexer \u001b[39m=\u001b[39m axis\u001b[39m.\u001b[39mget_indexer(new_axis)\n\u001b[0;32m   4549\u001b[0m \u001b[39m# Case for non-unique axis\u001b[39;00m\n\u001b[0;32m   4550\u001b[0m \u001b[39melse\u001b[39;00m:\n",
      "File \u001b[1;32mc:\\Users\\user\\AppData\\Local\\Programs\\Python\\Python311\\Lib\\site-packages\\pandas\\core\\indexes\\base.py:6934\u001b[0m, in \u001b[0;36mIndex.drop\u001b[1;34m(self, labels, errors)\u001b[0m\n\u001b[0;32m   6932\u001b[0m \u001b[39mif\u001b[39;00m mask\u001b[39m.\u001b[39many():\n\u001b[0;32m   6933\u001b[0m     \u001b[39mif\u001b[39;00m errors \u001b[39m!=\u001b[39m \u001b[39m\"\u001b[39m\u001b[39mignore\u001b[39m\u001b[39m\"\u001b[39m:\n\u001b[1;32m-> 6934\u001b[0m         \u001b[39mraise\u001b[39;00m \u001b[39mKeyError\u001b[39;00m(\u001b[39mf\u001b[39m\u001b[39m\"\u001b[39m\u001b[39m{\u001b[39;00m\u001b[39mlist\u001b[39m(labels[mask])\u001b[39m}\u001b[39;00m\u001b[39m not found in axis\u001b[39m\u001b[39m\"\u001b[39m)\n\u001b[0;32m   6935\u001b[0m     indexer \u001b[39m=\u001b[39m indexer[\u001b[39m~\u001b[39mmask]\n\u001b[0;32m   6936\u001b[0m \u001b[39mreturn\u001b[39;00m \u001b[39mself\u001b[39m\u001b[39m.\u001b[39mdelete(indexer)\n",
      "\u001b[1;31mKeyError\u001b[0m: \"['level_0'] not found in axis\""
     ]
    }
   ],
   "source": [
    "df.Area.value_counts().sort_index()\n",
    "df.reset_index(inplace=True)\n",
    "df.drop(columns=['level_0','index'], inplace=True)\n",
    "df.head()"
   ]
  },
  {
   "cell_type": "code",
   "execution_count": null,
   "metadata": {},
   "outputs": [],
   "source": [
    "df.to_csv('./datasets/Final.csv')"
   ]
  },
  {
   "cell_type": "markdown",
   "metadata": {},
   "source": [
    "### Further data cleaning"
   ]
  },
  {
   "cell_type": "code",
   "execution_count": 100,
   "metadata": {},
   "outputs": [
    {
     "data": {
      "text/html": [
       "<div>\n",
       "<style scoped>\n",
       "    .dataframe tbody tr th:only-of-type {\n",
       "        vertical-align: middle;\n",
       "    }\n",
       "\n",
       "    .dataframe tbody tr th {\n",
       "        vertical-align: top;\n",
       "    }\n",
       "\n",
       "    .dataframe thead th {\n",
       "        text-align: right;\n",
       "    }\n",
       "</style>\n",
       "<table border=\"1\" class=\"dataframe\">\n",
       "  <thead>\n",
       "    <tr style=\"text-align: right;\">\n",
       "      <th></th>\n",
       "      <th>id</th>\n",
       "      <th>DISTRICT</th>\n",
       "      <th>province</th>\n",
       "      <th>region</th>\n",
       "    </tr>\n",
       "  </thead>\n",
       "  <tbody>\n",
       "    <tr>\n",
       "      <th>0</th>\n",
       "      <td>1</td>\n",
       "      <td>Udayapur</td>\n",
       "      <td>Province 1</td>\n",
       "      <td>Hilly</td>\n",
       "    </tr>\n",
       "    <tr>\n",
       "      <th>1</th>\n",
       "      <td>2</td>\n",
       "      <td>Khotang</td>\n",
       "      <td>Province 1</td>\n",
       "      <td>Hilly</td>\n",
       "    </tr>\n",
       "    <tr>\n",
       "      <th>2</th>\n",
       "      <td>3</td>\n",
       "      <td>Okhaldhunga</td>\n",
       "      <td>Province 1</td>\n",
       "      <td>Hilly</td>\n",
       "    </tr>\n",
       "    <tr>\n",
       "      <th>3</th>\n",
       "      <td>4</td>\n",
       "      <td>Solukhumbu</td>\n",
       "      <td>Province 1</td>\n",
       "      <td>Himalayan</td>\n",
       "    </tr>\n",
       "    <tr>\n",
       "      <th>4</th>\n",
       "      <td>5</td>\n",
       "      <td>Bhojpur</td>\n",
       "      <td>Province 1</td>\n",
       "      <td>Hilly</td>\n",
       "    </tr>\n",
       "  </tbody>\n",
       "</table>\n",
       "</div>"
      ],
      "text/plain": [
       "   id     DISTRICT    province     region\n",
       "0   1     Udayapur  Province 1      Hilly\n",
       "1   2      Khotang  Province 1      Hilly\n",
       "2   3  Okhaldhunga  Province 1      Hilly\n",
       "3   4   Solukhumbu  Province 1  Himalayan\n",
       "4   5      Bhojpur  Province 1      Hilly"
      ]
     },
     "execution_count": 100,
     "metadata": {},
     "output_type": "execute_result"
    }
   ],
   "source": [
    "disct = pd.read_csv('./datasets/disct.csv')\n",
    "disct.head()"
   ]
  },
  {
   "cell_type": "code",
   "execution_count": 101,
   "metadata": {},
   "outputs": [],
   "source": [
    "df['Born'] = df['Born'].replace('Biratnagar', 'Morang')\n",
    "df['Raised'] = df['Raised'].replace('Biratnagar', 'Morang')\n",
    "df['Born'] = df['Born'].replace('Birgunj', 'Parsa')\n",
    "df['Born'] = df['Born'].replace('Pokhara', 'Kaski')\n",
    "df['Born'] = df['Born'].replace('Kavre', 'Kavrepalanchok')\n",
    "df['Born'] = df['Born'].replace('Illam', 'Ilam')\n",
    "df['Born'] = df['Born'].replace('Pokhara', 'Kaski')\n",
    "df['Born'] = df['Born'].replace('Sindhupalchowk', 'Sindhupalchok')"
   ]
  },
  {
   "cell_type": "code",
   "execution_count": 102,
   "metadata": {},
   "outputs": [
    {
     "data": {
      "text/plain": [
       "index             0\n",
       "Id                0\n",
       "Born              0\n",
       "Raised            0\n",
       "Residence         0\n",
       "Transportation    0\n",
       "Commute           0\n",
       "Family            0\n",
       "Area              0\n",
       "Batch             0\n",
       "id                1\n",
       "DISTRICT          1\n",
       "province          1\n",
       "region            1\n",
       "dtype: int64"
      ]
     },
     "execution_count": 102,
     "metadata": {},
     "output_type": "execute_result"
    }
   ],
   "source": [
    "merged_df = pd.merge(df, disct, left_on='Born', right_on='DISTRICT', how='left')\n",
    "merged_df.isna().sum()"
   ]
  },
  {
   "cell_type": "code",
   "execution_count": 103,
   "metadata": {},
   "outputs": [
    {
     "data": {
      "text/html": [
       "<div>\n",
       "<style scoped>\n",
       "    .dataframe tbody tr th:only-of-type {\n",
       "        vertical-align: middle;\n",
       "    }\n",
       "\n",
       "    .dataframe tbody tr th {\n",
       "        vertical-align: top;\n",
       "    }\n",
       "\n",
       "    .dataframe thead th {\n",
       "        text-align: right;\n",
       "    }\n",
       "</style>\n",
       "<table border=\"1\" class=\"dataframe\">\n",
       "  <thead>\n",
       "    <tr style=\"text-align: right;\">\n",
       "      <th></th>\n",
       "      <th>index</th>\n",
       "      <th>Id</th>\n",
       "      <th>Born</th>\n",
       "      <th>Raised</th>\n",
       "      <th>Residence</th>\n",
       "      <th>Transportation</th>\n",
       "      <th>Commute</th>\n",
       "      <th>Family</th>\n",
       "      <th>Area</th>\n",
       "      <th>Batch</th>\n",
       "      <th>id</th>\n",
       "      <th>DISTRICT</th>\n",
       "      <th>province</th>\n",
       "      <th>region</th>\n",
       "    </tr>\n",
       "  </thead>\n",
       "  <tbody>\n",
       "    <tr>\n",
       "      <th>70</th>\n",
       "      <td>11</td>\n",
       "      <td>1121</td>\n",
       "      <td>Merut, India</td>\n",
       "      <td>Kathmandu</td>\n",
       "      <td>Bansbari</td>\n",
       "      <td>Public</td>\n",
       "      <td>30</td>\n",
       "      <td>3</td>\n",
       "      <td>North</td>\n",
       "      <td>25C</td>\n",
       "      <td>NaN</td>\n",
       "      <td>NaN</td>\n",
       "      <td>NaN</td>\n",
       "      <td>NaN</td>\n",
       "    </tr>\n",
       "  </tbody>\n",
       "</table>\n",
       "</div>"
      ],
      "text/plain": [
       "    index    Id          Born     Raised Residence Transportation  Commute  \\\n",
       "70     11  1121  Merut, India  Kathmandu  Bansbari         Public       30   \n",
       "\n",
       "    Family   Area Batch  id DISTRICT province region  \n",
       "70       3  North   25C NaN      NaN      NaN    NaN  "
      ]
     },
     "execution_count": 103,
     "metadata": {},
     "output_type": "execute_result"
    }
   ],
   "source": [
    "merged_df[merged_df.isna().any(axis=1)]"
   ]
  },
  {
   "cell_type": "code",
   "execution_count": 104,
   "metadata": {},
   "outputs": [
    {
     "data": {
      "text/html": [
       "<div>\n",
       "<style scoped>\n",
       "    .dataframe tbody tr th:only-of-type {\n",
       "        vertical-align: middle;\n",
       "    }\n",
       "\n",
       "    .dataframe tbody tr th {\n",
       "        vertical-align: top;\n",
       "    }\n",
       "\n",
       "    .dataframe thead th {\n",
       "        text-align: right;\n",
       "    }\n",
       "</style>\n",
       "<table border=\"1\" class=\"dataframe\">\n",
       "  <thead>\n",
       "    <tr style=\"text-align: right;\">\n",
       "      <th></th>\n",
       "      <th>index</th>\n",
       "      <th>Id</th>\n",
       "      <th>Born</th>\n",
       "      <th>Raised</th>\n",
       "      <th>Residence</th>\n",
       "      <th>Transportation</th>\n",
       "      <th>Commute</th>\n",
       "      <th>Family</th>\n",
       "      <th>Area</th>\n",
       "      <th>Batch</th>\n",
       "      <th>id</th>\n",
       "      <th>DISTRICT</th>\n",
       "      <th>province</th>\n",
       "      <th>region</th>\n",
       "    </tr>\n",
       "  </thead>\n",
       "  <tbody>\n",
       "    <tr>\n",
       "      <th>0</th>\n",
       "      <td>1</td>\n",
       "      <td>402</td>\n",
       "      <td>Kathmandu</td>\n",
       "      <td>Kathmandu</td>\n",
       "      <td>Chabahil</td>\n",
       "      <td>Foot</td>\n",
       "      <td>25</td>\n",
       "      <td>3</td>\n",
       "      <td>North East</td>\n",
       "      <td>25B</td>\n",
       "      <td>30.0</td>\n",
       "      <td>Kathmandu</td>\n",
       "      <td>Province 3</td>\n",
       "      <td>Hilly</td>\n",
       "    </tr>\n",
       "    <tr>\n",
       "      <th>1</th>\n",
       "      <td>5</td>\n",
       "      <td>412</td>\n",
       "      <td>Morang</td>\n",
       "      <td>Morang</td>\n",
       "      <td>kalo pul</td>\n",
       "      <td>Foot</td>\n",
       "      <td>5</td>\n",
       "      <td>4</td>\n",
       "      <td>West</td>\n",
       "      <td>25B</td>\n",
       "      <td>21.0</td>\n",
       "      <td>Morang</td>\n",
       "      <td>Province 2</td>\n",
       "      <td>Terai</td>\n",
       "    </tr>\n",
       "    <tr>\n",
       "      <th>2</th>\n",
       "      <td>4</td>\n",
       "      <td>413</td>\n",
       "      <td>Kathmandu</td>\n",
       "      <td>Kathmandu</td>\n",
       "      <td>Narayantaar</td>\n",
       "      <td>Scooter</td>\n",
       "      <td>25</td>\n",
       "      <td>5</td>\n",
       "      <td>North</td>\n",
       "      <td>25B</td>\n",
       "      <td>30.0</td>\n",
       "      <td>Kathmandu</td>\n",
       "      <td>Province 3</td>\n",
       "      <td>Hilly</td>\n",
       "    </tr>\n",
       "    <tr>\n",
       "      <th>3</th>\n",
       "      <td>2</td>\n",
       "      <td>416</td>\n",
       "      <td>Kathmandu</td>\n",
       "      <td>Kathmandu</td>\n",
       "      <td>Baneshwor</td>\n",
       "      <td>Scooter</td>\n",
       "      <td>10</td>\n",
       "      <td>8</td>\n",
       "      <td>East</td>\n",
       "      <td>25B</td>\n",
       "      <td>30.0</td>\n",
       "      <td>Kathmandu</td>\n",
       "      <td>Province 3</td>\n",
       "      <td>Hilly</td>\n",
       "    </tr>\n",
       "    <tr>\n",
       "      <th>4</th>\n",
       "      <td>3</td>\n",
       "      <td>417</td>\n",
       "      <td>Lalitpur</td>\n",
       "      <td>Lalitpur</td>\n",
       "      <td>Godawari</td>\n",
       "      <td>Scooter</td>\n",
       "      <td>40</td>\n",
       "      <td>5</td>\n",
       "      <td>South</td>\n",
       "      <td>25B</td>\n",
       "      <td>31.0</td>\n",
       "      <td>Lalitpur</td>\n",
       "      <td>Province 3</td>\n",
       "      <td>Hilly</td>\n",
       "    </tr>\n",
       "  </tbody>\n",
       "</table>\n",
       "</div>"
      ],
      "text/plain": [
       "   index   Id       Born     Raised    Residence Transportation  Commute  \\\n",
       "0      1  402  Kathmandu  Kathmandu     Chabahil           Foot       25   \n",
       "1      5  412     Morang     Morang     kalo pul           Foot        5   \n",
       "2      4  413  Kathmandu  Kathmandu  Narayantaar        Scooter       25   \n",
       "3      2  416  Kathmandu  Kathmandu    Baneshwor        Scooter       10   \n",
       "4      3  417   Lalitpur   Lalitpur     Godawari        Scooter       40   \n",
       "\n",
       "   Family        Area Batch    id   DISTRICT    province region  \n",
       "0       3  North East   25B  30.0  Kathmandu  Province 3  Hilly  \n",
       "1       4        West   25B  21.0     Morang  Province 2  Terai  \n",
       "2       5       North   25B  30.0  Kathmandu  Province 3  Hilly  \n",
       "3       8        East   25B  30.0  Kathmandu  Province 3  Hilly  \n",
       "4       5       South   25B  31.0   Lalitpur  Province 3  Hilly  "
      ]
     },
     "execution_count": 104,
     "metadata": {},
     "output_type": "execute_result"
    }
   ],
   "source": [
    "final_df = merged_df[merged_df['Born'] != 'Merut, India']\n",
    "final_df.head()"
   ]
  },
  {
   "cell_type": "code",
   "execution_count": 105,
   "metadata": {},
   "outputs": [
    {
     "data": {
      "text/plain": [
       "index             0\n",
       "Id                0\n",
       "Born              0\n",
       "Raised            0\n",
       "Residence         0\n",
       "Transportation    0\n",
       "Commute           0\n",
       "Family            0\n",
       "Area              0\n",
       "Batch             0\n",
       "id                0\n",
       "DISTRICT          0\n",
       "province          0\n",
       "region            0\n",
       "dtype: int64"
      ]
     },
     "execution_count": 105,
     "metadata": {},
     "output_type": "execute_result"
    }
   ],
   "source": [
    "final_df.isna().sum()"
   ]
  },
  {
   "cell_type": "code",
   "execution_count": 106,
   "metadata": {},
   "outputs": [
    {
     "name": "stderr",
     "output_type": "stream",
     "text": [
      "C:\\Users\\user\\AppData\\Local\\Temp\\ipykernel_2104\\1880189724.py:1: SettingWithCopyWarning: \n",
      "A value is trying to be set on a copy of a slice from a DataFrame\n",
      "\n",
      "See the caveats in the documentation: https://pandas.pydata.org/pandas-docs/stable/user_guide/indexing.html#returning-a-view-versus-a-copy\n",
      "  final_df.drop(['id', 'DISTRICT'], axis = 1, inplace = True)\n"
     ]
    }
   ],
   "source": [
    "final_df.drop(['id', 'DISTRICT'], axis = 1, inplace = True)"
   ]
  },
  {
   "cell_type": "code",
   "execution_count": 107,
   "metadata": {},
   "outputs": [
    {
     "data": {
      "text/html": [
       "<div>\n",
       "<style scoped>\n",
       "    .dataframe tbody tr th:only-of-type {\n",
       "        vertical-align: middle;\n",
       "    }\n",
       "\n",
       "    .dataframe tbody tr th {\n",
       "        vertical-align: top;\n",
       "    }\n",
       "\n",
       "    .dataframe thead th {\n",
       "        text-align: right;\n",
       "    }\n",
       "</style>\n",
       "<table border=\"1\" class=\"dataframe\">\n",
       "  <thead>\n",
       "    <tr style=\"text-align: right;\">\n",
       "      <th></th>\n",
       "      <th>index</th>\n",
       "      <th>Id</th>\n",
       "      <th>Born</th>\n",
       "      <th>Raised</th>\n",
       "      <th>Residence</th>\n",
       "      <th>Transportation</th>\n",
       "      <th>Commute</th>\n",
       "      <th>Family</th>\n",
       "      <th>Area</th>\n",
       "      <th>Batch</th>\n",
       "      <th>province</th>\n",
       "      <th>region</th>\n",
       "    </tr>\n",
       "  </thead>\n",
       "  <tbody>\n",
       "    <tr>\n",
       "      <th>0</th>\n",
       "      <td>1</td>\n",
       "      <td>402</td>\n",
       "      <td>Kathmandu</td>\n",
       "      <td>Kathmandu</td>\n",
       "      <td>Chabahil</td>\n",
       "      <td>Foot</td>\n",
       "      <td>25</td>\n",
       "      <td>3</td>\n",
       "      <td>North East</td>\n",
       "      <td>25B</td>\n",
       "      <td>Province 3</td>\n",
       "      <td>Hilly</td>\n",
       "    </tr>\n",
       "    <tr>\n",
       "      <th>1</th>\n",
       "      <td>5</td>\n",
       "      <td>412</td>\n",
       "      <td>Morang</td>\n",
       "      <td>Morang</td>\n",
       "      <td>kalo pul</td>\n",
       "      <td>Foot</td>\n",
       "      <td>5</td>\n",
       "      <td>4</td>\n",
       "      <td>West</td>\n",
       "      <td>25B</td>\n",
       "      <td>Province 2</td>\n",
       "      <td>Terai</td>\n",
       "    </tr>\n",
       "    <tr>\n",
       "      <th>2</th>\n",
       "      <td>4</td>\n",
       "      <td>413</td>\n",
       "      <td>Kathmandu</td>\n",
       "      <td>Kathmandu</td>\n",
       "      <td>Narayantaar</td>\n",
       "      <td>Scooter</td>\n",
       "      <td>25</td>\n",
       "      <td>5</td>\n",
       "      <td>North</td>\n",
       "      <td>25B</td>\n",
       "      <td>Province 3</td>\n",
       "      <td>Hilly</td>\n",
       "    </tr>\n",
       "    <tr>\n",
       "      <th>3</th>\n",
       "      <td>2</td>\n",
       "      <td>416</td>\n",
       "      <td>Kathmandu</td>\n",
       "      <td>Kathmandu</td>\n",
       "      <td>Baneshwor</td>\n",
       "      <td>Scooter</td>\n",
       "      <td>10</td>\n",
       "      <td>8</td>\n",
       "      <td>East</td>\n",
       "      <td>25B</td>\n",
       "      <td>Province 3</td>\n",
       "      <td>Hilly</td>\n",
       "    </tr>\n",
       "    <tr>\n",
       "      <th>4</th>\n",
       "      <td>3</td>\n",
       "      <td>417</td>\n",
       "      <td>Lalitpur</td>\n",
       "      <td>Lalitpur</td>\n",
       "      <td>Godawari</td>\n",
       "      <td>Scooter</td>\n",
       "      <td>40</td>\n",
       "      <td>5</td>\n",
       "      <td>South</td>\n",
       "      <td>25B</td>\n",
       "      <td>Province 3</td>\n",
       "      <td>Hilly</td>\n",
       "    </tr>\n",
       "  </tbody>\n",
       "</table>\n",
       "</div>"
      ],
      "text/plain": [
       "   index   Id       Born     Raised    Residence Transportation  Commute  \\\n",
       "0      1  402  Kathmandu  Kathmandu     Chabahil           Foot       25   \n",
       "1      5  412     Morang     Morang     kalo pul           Foot        5   \n",
       "2      4  413  Kathmandu  Kathmandu  Narayantaar        Scooter       25   \n",
       "3      2  416  Kathmandu  Kathmandu    Baneshwor        Scooter       10   \n",
       "4      3  417   Lalitpur   Lalitpur     Godawari        Scooter       40   \n",
       "\n",
       "   Family        Area Batch    province region  \n",
       "0       3  North East   25B  Province 3  Hilly  \n",
       "1       4        West   25B  Province 2  Terai  \n",
       "2       5       North   25B  Province 3  Hilly  \n",
       "3       8        East   25B  Province 3  Hilly  \n",
       "4       5       South   25B  Province 3  Hilly  "
      ]
     },
     "execution_count": 107,
     "metadata": {},
     "output_type": "execute_result"
    }
   ],
   "source": [
    "final_df.head()"
   ]
  },
  {
   "cell_type": "code",
   "execution_count": null,
   "metadata": {},
   "outputs": [],
   "source": [
    "final_df.to_csv('./datasets/student_demography.csv', index = False)"
   ]
  }
 ],
 "metadata": {
  "kernelspec": {
   "display_name": "Python 3",
   "language": "python",
   "name": "python3"
  },
  "language_info": {
   "codemirror_mode": {
    "name": "ipython",
    "version": 3
   },
   "file_extension": ".py",
   "mimetype": "text/x-python",
   "name": "python",
   "nbconvert_exporter": "python",
   "pygments_lexer": "ipython3",
   "version": "3.11.2"
  },
  "orig_nbformat": 4
 },
 "nbformat": 4,
 "nbformat_minor": 2
}
